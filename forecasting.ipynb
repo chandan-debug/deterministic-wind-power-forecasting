{
 "cells": [
  {
   "cell_type": "code",
   "execution_count": 1,
   "id": "68d8839f",
   "metadata": {},
   "outputs": [],
   "source": [
    "import tensorflow as tf\n",
    "import pandas as pd\n",
    "import numpy as np"
   ]
  },
  {
   "cell_type": "code",
   "execution_count": 2,
   "id": "0102dd6a",
   "metadata": {},
   "outputs": [
    {
     "data": {
      "text/html": [
       "<div>\n",
       "<style scoped>\n",
       "    .dataframe tbody tr th:only-of-type {\n",
       "        vertical-align: middle;\n",
       "    }\n",
       "\n",
       "    .dataframe tbody tr th {\n",
       "        vertical-align: top;\n",
       "    }\n",
       "\n",
       "    .dataframe thead th {\n",
       "        text-align: right;\n",
       "    }\n",
       "</style>\n",
       "<table border=\"1\" class=\"dataframe\">\n",
       "  <thead>\n",
       "    <tr style=\"text-align: right;\">\n",
       "      <th></th>\n",
       "      <th>Date/Time</th>\n",
       "      <th>Date/Time (UTC)</th>\n",
       "      <th>TOTAL WIND BASE SCHEDULE (FORECAST) IN BPA CONTROL AREA (MW; SCADA 187517</th>\n",
       "      <th>TOTAL WIND BASEPOINT (FORECAST) IN BPA CONTROL AREA (MW; SCADA 103349</th>\n",
       "      <th>TOTAL WIND GENERATION  IN BPA CONTROL AREA (MW; SCADA 79687)</th>\n",
       "      <th>TOTAL BPA CONTROL AREA LOAD (MW; SCADA 45583)</th>\n",
       "      <th>TOTAL HYDRO GENERATION (MW; SCADA 79682)</th>\n",
       "      <th>TOTAL FOSSIL/BIOMASS GENERATION (MW; SCADA 164377)</th>\n",
       "      <th>TOTAL NUCLEAR GENERATION (MW; 70681)</th>\n",
       "      <th>NET INTERCHANGE (MW; SCADA 45581)</th>\n",
       "      <th>TOTAL SOLAR BASE SCHEDULE (FORECAST) IN BPA CONTROL AREA (MW; SCADA 187513)</th>\n",
       "      <th>TOTAL SOLAR Basepoint (FORECAST) IN BPA CONTROL AREA (MW; SCADA 177165)</th>\n",
       "      <th>TOTAL SOLAR GENERATION  IN BPA CONTROL AREA (MW; SCADA 142383)</th>\n",
       "    </tr>\n",
       "  </thead>\n",
       "  <tbody>\n",
       "    <tr>\n",
       "      <th>0</th>\n",
       "      <td>01-01-2022 00:00</td>\n",
       "      <td>01-01-2022 08:00</td>\n",
       "      <td>NaN</td>\n",
       "      <td>27.0</td>\n",
       "      <td>5.0</td>\n",
       "      <td>8320.0</td>\n",
       "      <td>10817.0</td>\n",
       "      <td>1096.0</td>\n",
       "      <td>1159.0</td>\n",
       "      <td>4757.0</td>\n",
       "      <td>NaN</td>\n",
       "      <td>0.0</td>\n",
       "      <td>0.0</td>\n",
       "    </tr>\n",
       "    <tr>\n",
       "      <th>1</th>\n",
       "      <td>01-01-2022 00:05</td>\n",
       "      <td>01-01-2022 08:05</td>\n",
       "      <td>NaN</td>\n",
       "      <td>24.0</td>\n",
       "      <td>5.0</td>\n",
       "      <td>8338.0</td>\n",
       "      <td>10960.0</td>\n",
       "      <td>1079.0</td>\n",
       "      <td>1165.0</td>\n",
       "      <td>4872.0</td>\n",
       "      <td>NaN</td>\n",
       "      <td>0.0</td>\n",
       "      <td>0.0</td>\n",
       "    </tr>\n",
       "    <tr>\n",
       "      <th>2</th>\n",
       "      <td>01-01-2022 00:10</td>\n",
       "      <td>01-01-2022 08:10</td>\n",
       "      <td>NaN</td>\n",
       "      <td>21.0</td>\n",
       "      <td>5.0</td>\n",
       "      <td>8337.0</td>\n",
       "      <td>11036.0</td>\n",
       "      <td>1056.0</td>\n",
       "      <td>1164.0</td>\n",
       "      <td>4925.0</td>\n",
       "      <td>NaN</td>\n",
       "      <td>0.0</td>\n",
       "      <td>0.0</td>\n",
       "    </tr>\n",
       "    <tr>\n",
       "      <th>3</th>\n",
       "      <td>01-01-2022 00:15</td>\n",
       "      <td>01-01-2022 08:15</td>\n",
       "      <td>NaN</td>\n",
       "      <td>21.0</td>\n",
       "      <td>6.0</td>\n",
       "      <td>8342.0</td>\n",
       "      <td>11084.0</td>\n",
       "      <td>1037.0</td>\n",
       "      <td>1165.0</td>\n",
       "      <td>4950.0</td>\n",
       "      <td>NaN</td>\n",
       "      <td>0.0</td>\n",
       "      <td>0.0</td>\n",
       "    </tr>\n",
       "    <tr>\n",
       "      <th>4</th>\n",
       "      <td>01-01-2022 00:20</td>\n",
       "      <td>01-01-2022 08:20</td>\n",
       "      <td>NaN</td>\n",
       "      <td>21.0</td>\n",
       "      <td>6.0</td>\n",
       "      <td>8354.0</td>\n",
       "      <td>11085.0</td>\n",
       "      <td>1032.0</td>\n",
       "      <td>1161.0</td>\n",
       "      <td>4930.0</td>\n",
       "      <td>NaN</td>\n",
       "      <td>0.0</td>\n",
       "      <td>0.0</td>\n",
       "    </tr>\n",
       "    <tr>\n",
       "      <th>...</th>\n",
       "      <td>...</td>\n",
       "      <td>...</td>\n",
       "      <td>...</td>\n",
       "      <td>...</td>\n",
       "      <td>...</td>\n",
       "      <td>...</td>\n",
       "      <td>...</td>\n",
       "      <td>...</td>\n",
       "      <td>...</td>\n",
       "      <td>...</td>\n",
       "      <td>...</td>\n",
       "      <td>...</td>\n",
       "      <td>...</td>\n",
       "    </tr>\n",
       "    <tr>\n",
       "      <th>86383</th>\n",
       "      <td>10/27/22 23:35</td>\n",
       "      <td>10/28/22 06:35</td>\n",
       "      <td>579.0</td>\n",
       "      <td>701.0</td>\n",
       "      <td>670.0</td>\n",
       "      <td>5282.0</td>\n",
       "      <td>4361.0</td>\n",
       "      <td>1097.0</td>\n",
       "      <td>1152.0</td>\n",
       "      <td>1998.0</td>\n",
       "      <td>0.0</td>\n",
       "      <td>0.0</td>\n",
       "      <td>0.0</td>\n",
       "    </tr>\n",
       "    <tr>\n",
       "      <th>86384</th>\n",
       "      <td>10/27/22 23:40</td>\n",
       "      <td>10/28/22 06:40</td>\n",
       "      <td>579.0</td>\n",
       "      <td>686.0</td>\n",
       "      <td>678.0</td>\n",
       "      <td>5244.0</td>\n",
       "      <td>4332.0</td>\n",
       "      <td>1095.0</td>\n",
       "      <td>1149.0</td>\n",
       "      <td>2013.0</td>\n",
       "      <td>0.0</td>\n",
       "      <td>0.0</td>\n",
       "      <td>0.0</td>\n",
       "    </tr>\n",
       "    <tr>\n",
       "      <th>86385</th>\n",
       "      <td>10/27/22 23:45</td>\n",
       "      <td>10/28/22 06:45</td>\n",
       "      <td>579.0</td>\n",
       "      <td>678.0</td>\n",
       "      <td>680.0</td>\n",
       "      <td>5223.0</td>\n",
       "      <td>4366.0</td>\n",
       "      <td>1096.0</td>\n",
       "      <td>1149.0</td>\n",
       "      <td>2068.0</td>\n",
       "      <td>0.0</td>\n",
       "      <td>0.0</td>\n",
       "      <td>0.0</td>\n",
       "    </tr>\n",
       "    <tr>\n",
       "      <th>86386</th>\n",
       "      <td>10/27/22 23:50</td>\n",
       "      <td>10/28/22 06:50</td>\n",
       "      <td>579.0</td>\n",
       "      <td>681.0</td>\n",
       "      <td>687.0</td>\n",
       "      <td>5216.0</td>\n",
       "      <td>4351.0</td>\n",
       "      <td>1097.0</td>\n",
       "      <td>1149.0</td>\n",
       "      <td>2069.0</td>\n",
       "      <td>0.0</td>\n",
       "      <td>0.0</td>\n",
       "      <td>0.0</td>\n",
       "    </tr>\n",
       "    <tr>\n",
       "      <th>86387</th>\n",
       "      <td>10/27/22 23:55</td>\n",
       "      <td>10/28/22 06:55</td>\n",
       "      <td>606.0</td>\n",
       "      <td>687.0</td>\n",
       "      <td>694.0</td>\n",
       "      <td>5195.0</td>\n",
       "      <td>4204.0</td>\n",
       "      <td>1097.0</td>\n",
       "      <td>1150.0</td>\n",
       "      <td>1949.0</td>\n",
       "      <td>0.0</td>\n",
       "      <td>0.0</td>\n",
       "      <td>0.0</td>\n",
       "    </tr>\n",
       "  </tbody>\n",
       "</table>\n",
       "<p>86388 rows × 13 columns</p>\n",
       "</div>"
      ],
      "text/plain": [
       "              Date/Time   Date/Time (UTC)   \n",
       "0      01-01-2022 00:00  01-01-2022 08:00  \\\n",
       "1      01-01-2022 00:05  01-01-2022 08:05   \n",
       "2      01-01-2022 00:10  01-01-2022 08:10   \n",
       "3      01-01-2022 00:15  01-01-2022 08:15   \n",
       "4      01-01-2022 00:20  01-01-2022 08:20   \n",
       "...                 ...               ...   \n",
       "86383    10/27/22 23:35    10/28/22 06:35   \n",
       "86384    10/27/22 23:40    10/28/22 06:40   \n",
       "86385    10/27/22 23:45    10/28/22 06:45   \n",
       "86386    10/27/22 23:50    10/28/22 06:50   \n",
       "86387    10/27/22 23:55    10/28/22 06:55   \n",
       "\n",
       "       TOTAL WIND BASE SCHEDULE (FORECAST) IN BPA CONTROL AREA (MW; SCADA 187517   \n",
       "0                                                    NaN                          \\\n",
       "1                                                    NaN                           \n",
       "2                                                    NaN                           \n",
       "3                                                    NaN                           \n",
       "4                                                    NaN                           \n",
       "...                                                  ...                           \n",
       "86383                                              579.0                           \n",
       "86384                                              579.0                           \n",
       "86385                                              579.0                           \n",
       "86386                                              579.0                           \n",
       "86387                                              606.0                           \n",
       "\n",
       "       TOTAL WIND BASEPOINT (FORECAST) IN BPA CONTROL AREA (MW; SCADA 103349   \n",
       "0                                                   27.0                      \\\n",
       "1                                                   24.0                       \n",
       "2                                                   21.0                       \n",
       "3                                                   21.0                       \n",
       "4                                                   21.0                       \n",
       "...                                                  ...                       \n",
       "86383                                              701.0                       \n",
       "86384                                              686.0                       \n",
       "86385                                              678.0                       \n",
       "86386                                              681.0                       \n",
       "86387                                              687.0                       \n",
       "\n",
       "       TOTAL WIND GENERATION  IN BPA CONTROL AREA (MW; SCADA 79687)   \n",
       "0                                                    5.0             \\\n",
       "1                                                    5.0              \n",
       "2                                                    5.0              \n",
       "3                                                    6.0              \n",
       "4                                                    6.0              \n",
       "...                                                  ...              \n",
       "86383                                              670.0              \n",
       "86384                                              678.0              \n",
       "86385                                              680.0              \n",
       "86386                                              687.0              \n",
       "86387                                              694.0              \n",
       "\n",
       "       TOTAL BPA CONTROL AREA LOAD (MW; SCADA 45583)   \n",
       "0                                             8320.0  \\\n",
       "1                                             8338.0   \n",
       "2                                             8337.0   \n",
       "3                                             8342.0   \n",
       "4                                             8354.0   \n",
       "...                                              ...   \n",
       "86383                                         5282.0   \n",
       "86384                                         5244.0   \n",
       "86385                                         5223.0   \n",
       "86386                                         5216.0   \n",
       "86387                                         5195.0   \n",
       "\n",
       "       TOTAL HYDRO GENERATION (MW; SCADA 79682)   \n",
       "0                                       10817.0  \\\n",
       "1                                       10960.0   \n",
       "2                                       11036.0   \n",
       "3                                       11084.0   \n",
       "4                                       11085.0   \n",
       "...                                         ...   \n",
       "86383                                    4361.0   \n",
       "86384                                    4332.0   \n",
       "86385                                    4366.0   \n",
       "86386                                    4351.0   \n",
       "86387                                    4204.0   \n",
       "\n",
       "       TOTAL FOSSIL/BIOMASS GENERATION (MW; SCADA 164377)   \n",
       "0                                                 1096.0   \\\n",
       "1                                                 1079.0    \n",
       "2                                                 1056.0    \n",
       "3                                                 1037.0    \n",
       "4                                                 1032.0    \n",
       "...                                                  ...    \n",
       "86383                                             1097.0    \n",
       "86384                                             1095.0    \n",
       "86385                                             1096.0    \n",
       "86386                                             1097.0    \n",
       "86387                                             1097.0    \n",
       "\n",
       "       TOTAL NUCLEAR GENERATION (MW; 70681)   \n",
       "0                                    1159.0  \\\n",
       "1                                    1165.0   \n",
       "2                                    1164.0   \n",
       "3                                    1165.0   \n",
       "4                                    1161.0   \n",
       "...                                     ...   \n",
       "86383                                1152.0   \n",
       "86384                                1149.0   \n",
       "86385                                1149.0   \n",
       "86386                                1149.0   \n",
       "86387                                1150.0   \n",
       "\n",
       "       NET INTERCHANGE (MW; SCADA 45581)   \n",
       "0                                 4757.0  \\\n",
       "1                                 4872.0   \n",
       "2                                 4925.0   \n",
       "3                                 4950.0   \n",
       "4                                 4930.0   \n",
       "...                                  ...   \n",
       "86383                             1998.0   \n",
       "86384                             2013.0   \n",
       "86385                             2068.0   \n",
       "86386                             2069.0   \n",
       "86387                             1949.0   \n",
       "\n",
       "       TOTAL SOLAR BASE SCHEDULE (FORECAST) IN BPA CONTROL AREA (MW; SCADA 187513)   \n",
       "0                                                    NaN                            \\\n",
       "1                                                    NaN                             \n",
       "2                                                    NaN                             \n",
       "3                                                    NaN                             \n",
       "4                                                    NaN                             \n",
       "...                                                  ...                             \n",
       "86383                                                0.0                             \n",
       "86384                                                0.0                             \n",
       "86385                                                0.0                             \n",
       "86386                                                0.0                             \n",
       "86387                                                0.0                             \n",
       "\n",
       "       TOTAL SOLAR Basepoint (FORECAST) IN BPA CONTROL AREA (MW; SCADA 177165)   \n",
       "0                                                    0.0                        \\\n",
       "1                                                    0.0                         \n",
       "2                                                    0.0                         \n",
       "3                                                    0.0                         \n",
       "4                                                    0.0                         \n",
       "...                                                  ...                         \n",
       "86383                                                0.0                         \n",
       "86384                                                0.0                         \n",
       "86385                                                0.0                         \n",
       "86386                                                0.0                         \n",
       "86387                                                0.0                         \n",
       "\n",
       "       TOTAL SOLAR GENERATION  IN BPA CONTROL AREA (MW; SCADA 142383)  \n",
       "0                                                    0.0               \n",
       "1                                                    0.0               \n",
       "2                                                    0.0               \n",
       "3                                                    0.0               \n",
       "4                                                    0.0               \n",
       "...                                                  ...               \n",
       "86383                                                0.0               \n",
       "86384                                                0.0               \n",
       "86385                                                0.0               \n",
       "86386                                                0.0               \n",
       "86387                                                0.0               \n",
       "\n",
       "[86388 rows x 13 columns]"
      ]
     },
     "execution_count": 2,
     "metadata": {},
     "output_type": "execute_result"
    }
   ],
   "source": [
    "df = pd.read_csv('mycsv.csv')\n",
    "df"
   ]
  },
  {
   "cell_type": "code",
   "execution_count": 3,
   "id": "fa4025dd",
   "metadata": {},
   "outputs": [
    {
     "name": "stderr",
     "output_type": "stream",
     "text": [
      "C:\\Users\\ASUS\\AppData\\Local\\Temp\\ipykernel_18692\\1315962383.py:2: SettingWithCopyWarning: \n",
      "A value is trying to be set on a copy of a slice from a DataFrame\n",
      "\n",
      "See the caveats in the documentation: https://pandas.pydata.org/pandas-docs/stable/user_guide/indexing.html#returning-a-view-versus-a-copy\n",
      "  df1.rename(columns={'TOTAL WIND GENERATION  IN BPA CONTROL AREA (MW; SCADA 79687)': 'WindPower'}, inplace=True)\n"
     ]
    },
    {
     "data": {
      "text/html": [
       "<div>\n",
       "<style scoped>\n",
       "    .dataframe tbody tr th:only-of-type {\n",
       "        vertical-align: middle;\n",
       "    }\n",
       "\n",
       "    .dataframe tbody tr th {\n",
       "        vertical-align: top;\n",
       "    }\n",
       "\n",
       "    .dataframe thead th {\n",
       "        text-align: right;\n",
       "    }\n",
       "</style>\n",
       "<table border=\"1\" class=\"dataframe\">\n",
       "  <thead>\n",
       "    <tr style=\"text-align: right;\">\n",
       "      <th></th>\n",
       "      <th>WindPower</th>\n",
       "    </tr>\n",
       "    <tr>\n",
       "      <th>Date/Time</th>\n",
       "      <th></th>\n",
       "    </tr>\n",
       "  </thead>\n",
       "  <tbody>\n",
       "    <tr>\n",
       "      <th>01-01-2022 00:00</th>\n",
       "      <td>5.0</td>\n",
       "    </tr>\n",
       "    <tr>\n",
       "      <th>01-01-2022 00:05</th>\n",
       "      <td>5.0</td>\n",
       "    </tr>\n",
       "    <tr>\n",
       "      <th>01-01-2022 00:10</th>\n",
       "      <td>5.0</td>\n",
       "    </tr>\n",
       "    <tr>\n",
       "      <th>01-01-2022 00:15</th>\n",
       "      <td>6.0</td>\n",
       "    </tr>\n",
       "    <tr>\n",
       "      <th>01-01-2022 00:20</th>\n",
       "      <td>6.0</td>\n",
       "    </tr>\n",
       "    <tr>\n",
       "      <th>...</th>\n",
       "      <td>...</td>\n",
       "    </tr>\n",
       "    <tr>\n",
       "      <th>10/27/22 23:35</th>\n",
       "      <td>670.0</td>\n",
       "    </tr>\n",
       "    <tr>\n",
       "      <th>10/27/22 23:40</th>\n",
       "      <td>678.0</td>\n",
       "    </tr>\n",
       "    <tr>\n",
       "      <th>10/27/22 23:45</th>\n",
       "      <td>680.0</td>\n",
       "    </tr>\n",
       "    <tr>\n",
       "      <th>10/27/22 23:50</th>\n",
       "      <td>687.0</td>\n",
       "    </tr>\n",
       "    <tr>\n",
       "      <th>10/27/22 23:55</th>\n",
       "      <td>694.0</td>\n",
       "    </tr>\n",
       "  </tbody>\n",
       "</table>\n",
       "<p>86388 rows × 1 columns</p>\n",
       "</div>"
      ],
      "text/plain": [
       "                  WindPower\n",
       "Date/Time                  \n",
       "01-01-2022 00:00        5.0\n",
       "01-01-2022 00:05        5.0\n",
       "01-01-2022 00:10        5.0\n",
       "01-01-2022 00:15        6.0\n",
       "01-01-2022 00:20        6.0\n",
       "...                     ...\n",
       "10/27/22 23:35        670.0\n",
       "10/27/22 23:40        678.0\n",
       "10/27/22 23:45        680.0\n",
       "10/27/22 23:50        687.0\n",
       "10/27/22 23:55        694.0\n",
       "\n",
       "[86388 rows x 1 columns]"
      ]
     },
     "execution_count": 3,
     "metadata": {},
     "output_type": "execute_result"
    }
   ],
   "source": [
    "df1 = df[['Date/Time', 'TOTAL WIND GENERATION  IN BPA CONTROL AREA (MW; SCADA 79687)']]\n",
    "df1.rename(columns={'TOTAL WIND GENERATION  IN BPA CONTROL AREA (MW; SCADA 79687)': 'WindPower'}, inplace=True)\n",
    "df1.set_index('Date/Time', inplace=True)\n",
    "df1"
   ]
  },
  {
   "cell_type": "code",
   "execution_count": 4,
   "id": "7da173d7",
   "metadata": {},
   "outputs": [
    {
     "data": {
      "text/plain": [
       "WindPower    float64\n",
       "dtype: object"
      ]
     },
     "execution_count": 4,
     "metadata": {},
     "output_type": "execute_result"
    }
   ],
   "source": [
    "df1.dtypes"
   ]
  },
  {
   "cell_type": "code",
   "execution_count": 5,
   "id": "21f71ccb",
   "metadata": {},
   "outputs": [
    {
     "data": {
      "text/plain": [
       "WindPower    12\n",
       "dtype: int64"
      ]
     },
     "execution_count": 5,
     "metadata": {},
     "output_type": "execute_result"
    }
   ],
   "source": [
    "df1.isnull().sum()"
   ]
  },
  {
   "cell_type": "code",
   "execution_count": 6,
   "id": "97aaa86d",
   "metadata": {
    "scrolled": false
   },
   "outputs": [
    {
     "data": {
      "text/plain": [
       "<AxesSubplot:xlabel='Date/Time'>"
      ]
     },
     "execution_count": 6,
     "metadata": {},
     "output_type": "execute_result"
    },
    {
     "data": {
      "image/png": "[encoded data removed]",
      "text/plain": [
       "<Figure size 640x480 with 1 Axes>"
      ]
     },
     "metadata": {},
     "output_type": "display_data"
    }
   ],
   "source": [
    "df1.plot()"
   ]
  },
  {
   "cell_type": "code",
   "execution_count": 7,
   "id": "fa666191",
   "metadata": {},
   "outputs": [
    {
     "name": "stderr",
     "output_type": "stream",
     "text": [
      "C:\\Users\\ASUS\\AppData\\Local\\Temp\\ipykernel_18692\\4027946816.py:3: SettingWithCopyWarning: \n",
      "A value is trying to be set on a copy of a slice from a DataFrame\n",
      "\n",
      "See the caveats in the documentation: https://pandas.pydata.org/pandas-docs/stable/user_guide/indexing.html#returning-a-view-versus-a-copy\n",
      "  df1['WindPower'].fillna(mean_wind_power, inplace=True)\n"
     ]
    }
   ],
   "source": [
    "mean_wind_power = df1['WindPower'].mean()\n",
    "\n",
    "df1['WindPower'].fillna(mean_wind_power, inplace=True)"
   ]
  },
  {
   "cell_type": "code",
   "execution_count": 8,
   "id": "b04e762d",
   "metadata": {},
   "outputs": [
    {
     "data": {
      "text/plain": [
       "WindPower    0\n",
       "dtype: int64"
      ]
     },
     "execution_count": 8,
     "metadata": {},
     "output_type": "execute_result"
    }
   ],
   "source": [
    "df1.isnull().sum()"
   ]
  },
  {
   "cell_type": "code",
   "execution_count": 9,
   "id": "baf5ea42",
   "metadata": {},
   "outputs": [
    {
     "data": {
      "text/html": [
       "<div>\n",
       "<style scoped>\n",
       "    .dataframe tbody tr th:only-of-type {\n",
       "        vertical-align: middle;\n",
       "    }\n",
       "\n",
       "    .dataframe tbody tr th {\n",
       "        vertical-align: top;\n",
       "    }\n",
       "\n",
       "    .dataframe thead th {\n",
       "        text-align: right;\n",
       "    }\n",
       "</style>\n",
       "<table border=\"1\" class=\"dataframe\">\n",
       "  <thead>\n",
       "    <tr style=\"text-align: right;\">\n",
       "      <th></th>\n",
       "      <th>count</th>\n",
       "      <th>mean</th>\n",
       "      <th>std</th>\n",
       "      <th>min</th>\n",
       "      <th>25%</th>\n",
       "      <th>50%</th>\n",
       "      <th>75%</th>\n",
       "      <th>max</th>\n",
       "    </tr>\n",
       "  </thead>\n",
       "  <tbody>\n",
       "    <tr>\n",
       "      <th>WindPower</th>\n",
       "      <td>86388.0</td>\n",
       "      <td>732.712744</td>\n",
       "      <td>757.830476</td>\n",
       "      <td>0.0</td>\n",
       "      <td>81.0</td>\n",
       "      <td>423.0</td>\n",
       "      <td>1270.0</td>\n",
       "      <td>2641.0</td>\n",
       "    </tr>\n",
       "  </tbody>\n",
       "</table>\n",
       "</div>"
      ],
      "text/plain": [
       "             count        mean         std  min   25%    50%     75%     max\n",
       "WindPower  86388.0  732.712744  757.830476  0.0  81.0  423.0  1270.0  2641.0"
      ]
     },
     "execution_count": 9,
     "metadata": {},
     "output_type": "execute_result"
    }
   ],
   "source": [
    "df_new = df1.describe().transpose()\n",
    "df_new"
   ]
  },
  {
   "cell_type": "code",
   "execution_count": 10,
   "id": "0ca3d149",
   "metadata": {},
   "outputs": [],
   "source": [
    "def df_to_X_y(df, window_size):\n",
    "    df_as_np = df.to_numpy()\n",
    "    X = []\n",
    "    y = []\n",
    "    for i in range(len(df_as_np)-window_size):\n",
    "        # Extract a window of data with 'window_size' time steps\n",
    "        window = df_as_np[i:i+window_size]\n",
    "\n",
    "        # Append the window to X\n",
    "        X.append(window)\n",
    "\n",
    "        # Extract the label (next data point after the window)\n",
    "        label = df_as_np[i+window_size]\n",
    "\n",
    "        # Append the label to y\n",
    "        y.append(label)\n",
    "\n",
    "    # Convert X and y to NumPy arrays\n",
    "    X = np.array(X)\n",
    "    y = np.array(y)\n",
    "\n",
    "    return X, y"
   ]
  },
  {
   "cell_type": "code",
   "execution_count": 11,
   "id": "6487f2f2",
   "metadata": {},
   "outputs": [
    {
     "data": {
      "text/plain": [
       "((86376, 12, 1), (86376, 1))"
      ]
     },
     "execution_count": 11,
     "metadata": {},
     "output_type": "execute_result"
    }
   ],
   "source": [
    "WINDOW_SIZE = 12\n",
    "X1, y1 = df_to_X_y(df1, WINDOW_SIZE)\n",
    "X1.shape, y1.shape"
   ]
  },
  {
   "cell_type": "code",
   "execution_count": 12,
   "id": "851629cb",
   "metadata": {},
   "outputs": [
    {
     "name": "stdout",
     "output_type": "stream",
     "text": [
      "(60471, 12, 1) (60471, 1) (12958, 12, 1) (12958, 1) (12947, 12, 1) (12947, 1)\n"
     ]
    }
   ],
   "source": [
    "length = len(df)\n",
    "\n",
    "# Convert to integers\n",
    "train_length = int(0.7 * length)\n",
    "val_length = int(0.85 * length)\n",
    "\n",
    "X_train1, y_train1 = X1[:train_length], y1[:train_length]\n",
    "X_val1, y_val1 = X1[train_length:val_length], y1[train_length:val_length]\n",
    "X_test1, y_test1 = X1[val_length:], y1[val_length:]\n",
    "\n",
    "# Check the shapes\n",
    "print(X_train1.shape, y_train1.shape, X_val1.shape, y_val1.shape, X_test1.shape, y_test1.shape)\n"
   ]
  },
  {
   "cell_type": "code",
   "execution_count": 13,
   "id": "8f68148c",
   "metadata": {},
   "outputs": [],
   "source": [
    "from sklearn.preprocessing import MinMaxScaler\n",
    "\n",
    "# Initialize the MinMaxScaler\n",
    "scaler_X = MinMaxScaler()\n",
    "scaler_y = MinMaxScaler()\n",
    "\n",
    "# Reshape and flatten X_train1, X_val1, X_test1\n",
    "X_train1_reshaped = X_train1.reshape(-1, X_train1.shape[-1])\n",
    "X_val1_reshaped = X_val1.reshape(-1, X_val1.shape[-1])\n",
    "X_test1_reshaped = X_test1.reshape(-1, X_test1.shape[-1])\n",
    "\n",
    "# Fit and transform the scalers on the training data\n",
    "X_train1_normalized = scaler_X.fit_transform(X_train1_reshaped)\n",
    "y_train1_normalized = scaler_y.fit_transform(y_train1.reshape(-1, 1))\n",
    "\n",
    "# Reshape the normalized data back to the original shape\n",
    "X_train1_normalized = X_train1_normalized.reshape(X_train1.shape)\n",
    "y_train1_normalized = y_train1_normalized.reshape(y_train1.shape)\n",
    "\n",
    "# Transform the validation and test data using the fitted scalers\n",
    "X_val1_normalized = scaler_X.transform(X_val1_reshaped)\n",
    "X_test1_normalized = scaler_X.transform(X_test1_reshaped)\n",
    "\n",
    "# Reshape the normalized data back to the original shape for validation and test\n",
    "X_val1_normalized = X_val1_normalized.reshape(X_val1.shape)\n",
    "X_test1_normalized = X_test1_normalized.reshape(X_test1.shape)\n",
    "\n",
    "y_val1_normalized = scaler_y.transform(y_val1.reshape(-1, 1))\n"
   ]
  },
  {
   "cell_type": "code",
   "execution_count": 14,
   "id": "574f686c",
   "metadata": {},
   "outputs": [
    {
     "name": "stdout",
     "output_type": "stream",
     "text": [
      "Model: \"sequential\"\n",
      "_________________________________________________________________\n",
      " Layer (type)                Output Shape              Param #   \n",
      "=================================================================\n",
      " lstm (LSTM)                 (None, 64)                16896     \n",
      "                                                                 \n",
      " dense (Dense)               (None, 8)                 520       \n",
      "                                                                 \n",
      " dense_1 (Dense)             (None, 1)                 9         \n",
      "                                                                 \n",
      "=================================================================\n",
      "Total params: 17,425\n",
      "Trainable params: 17,425\n",
      "Non-trainable params: 0\n",
      "_________________________________________________________________\n"
     ]
    }
   ],
   "source": [
    "from tensorflow.keras.models import Sequential\n",
    "from tensorflow.keras.layers import *\n",
    "from tensorflow.keras.callbacks import ModelCheckpoint\n",
    "from tensorflow.keras.losses import MeanSquaredError, MeanAbsoluteError\n",
    "from tensorflow.keras.metrics import RootMeanSquaredError, MeanAbsolutePercentageError\n",
    "from tensorflow.keras.optimizers import Adam\n",
    "\n",
    "model1 = Sequential()\n",
    "model1.add(InputLayer((X1.shape[1],1)))\n",
    "model1.add(LSTM(64))\n",
    "model1.add(Dense(8, 'relu'))\n",
    "model1.add(Dense(1, 'linear'))\n",
    "\n",
    "model1.summary()"
   ]
  },
  {
   "cell_type": "code",
   "execution_count": 15,
   "id": "988200ce",
   "metadata": {},
   "outputs": [],
   "source": [
    "cp1 = ModelCheckpoint('model1/', save_best_only=True)\n",
    "model1.compile(\n",
    "    loss=MeanSquaredError(),\n",
    "    optimizer=Adam(learning_rate=0.0001),\n",
    "    metrics=[RootMeanSquaredError(), MeanAbsoluteError(), MeanAbsolutePercentageError()]\n",
    ")"
   ]
  },
  {
   "cell_type": "code",
   "execution_count": 16,
   "id": "cef7db98",
   "metadata": {
    "scrolled": true
   },
   "outputs": [
    {
     "name": "stdout",
     "output_type": "stream",
     "text": [
      "Epoch 1/100\n",
      "1890/1890 [==============================] - ETA: 0s - loss: 0.0068 - root_mean_squared_error: 0.0825 - mean_absolute_error: 0.0374 - mean_absolute_percentage_error: 247607.5625"
     ]
    },
    {
     "name": "stderr",
     "output_type": "stream",
     "text": [
      "WARNING:absl:Found untraced functions such as _update_step_xla, lstm_cell_layer_call_fn, lstm_cell_layer_call_and_return_conditional_losses while saving (showing 3 of 3). These functions will not be directly callable after loading.\n"
     ]
    },
    {
     "name": "stdout",
     "output_type": "stream",
     "text": [
      "INFO:tensorflow:Assets written to: model1\\assets\n"
     ]
    },
    {
     "name": "stderr",
     "output_type": "stream",
     "text": [
      "INFO:tensorflow:Assets written to: model1\\assets\n"
     ]
    },
    {
     "name": "stdout",
     "output_type": "stream",
     "text": [
      "1890/1890 [==============================] - 15s 7ms/step - loss: 0.0068 - root_mean_squared_error: 0.0825 - mean_absolute_error: 0.0374 - mean_absolute_percentage_error: 247607.5625 - val_loss: 7.3991e-04 - val_root_mean_squared_error: 0.0272 - val_mean_absolute_error: 0.0178 - val_mean_absolute_percentage_error: 5585.7700\n",
      "Epoch 2/100\n",
      "1890/1890 [==============================] - ETA: 0s - loss: 8.6673e-04 - root_mean_squared_error: 0.0294 - mean_absolute_error: 0.0186 - mean_absolute_percentage_error: 58752.4102"
     ]
    },
    {
     "name": "stderr",
     "output_type": "stream",
     "text": [
      "WARNING:absl:Found untraced functions such as _update_step_xla, lstm_cell_layer_call_fn, lstm_cell_layer_call_and_return_conditional_losses while saving (showing 3 of 3). These functions will not be directly callable after loading.\n"
     ]
    },
    {
     "name": "stdout",
     "output_type": "stream",
     "text": [
      "INFO:tensorflow:Assets written to: model1\\assets\n"
     ]
    },
    {
     "name": "stderr",
     "output_type": "stream",
     "text": [
      "INFO:tensorflow:Assets written to: model1\\assets\n"
     ]
    },
    {
     "name": "stdout",
     "output_type": "stream",
     "text": [
      "1890/1890 [==============================] - 12s 6ms/step - loss: 8.6673e-04 - root_mean_squared_error: 0.0294 - mean_absolute_error: 0.0186 - mean_absolute_percentage_error: 58752.4102 - val_loss: 3.9021e-04 - val_root_mean_squared_error: 0.0198 - val_mean_absolute_error: 0.0126 - val_mean_absolute_percentage_error: 2901.1958\n",
      "Epoch 3/100\n",
      "1883/1890 [============================>.] - ETA: 0s - loss: 4.1247e-04 - root_mean_squared_error: 0.0203 - mean_absolute_error: 0.0122 - mean_absolute_percentage_error: 22053.9316"
     ]
    },
    {
     "name": "stderr",
     "output_type": "stream",
     "text": [
      "WARNING:absl:Found untraced functions such as _update_step_xla, lstm_cell_layer_call_fn, lstm_cell_layer_call_and_return_conditional_losses while saving (showing 3 of 3). These functions will not be directly callable after loading.\n"
     ]
    },
    {
     "name": "stdout",
     "output_type": "stream",
     "text": [
      "INFO:tensorflow:Assets written to: model1\\assets\n"
     ]
    },
    {
     "name": "stderr",
     "output_type": "stream",
     "text": [
      "INFO:tensorflow:Assets written to: model1\\assets\n"
     ]
    },
    {
     "name": "stdout",
     "output_type": "stream",
     "text": [
      "1890/1890 [==============================] - 12s 6ms/step - loss: 4.1195e-04 - root_mean_squared_error: 0.0203 - mean_absolute_error: 0.0122 - mean_absolute_percentage_error: 22016.6777 - val_loss: 2.1290e-04 - val_root_mean_squared_error: 0.0146 - val_mean_absolute_error: 0.0090 - val_mean_absolute_percentage_error: 2127.9819\n",
      "Epoch 4/100\n",
      "1889/1890 [============================>.] - ETA: 0s - loss: 3.0058e-04 - root_mean_squared_error: 0.0173 - mean_absolute_error: 0.0101 - mean_absolute_percentage_error: 18906.8848"
     ]
    },
    {
     "name": "stderr",
     "output_type": "stream",
     "text": [
      "WARNING:absl:Found untraced functions such as _update_step_xla, lstm_cell_layer_call_fn, lstm_cell_layer_call_and_return_conditional_losses while saving (showing 3 of 3). These functions will not be directly callable after loading.\n"
     ]
    },
    {
     "name": "stdout",
     "output_type": "stream",
     "text": [
      "INFO:tensorflow:Assets written to: model1\\assets\n"
     ]
    },
    {
     "name": "stderr",
     "output_type": "stream",
     "text": [
      "INFO:tensorflow:Assets written to: model1\\assets\n"
     ]
    },
    {
     "name": "stdout",
     "output_type": "stream",
     "text": [
      "1890/1890 [==============================] - 13s 7ms/step - loss: 3.0051e-04 - root_mean_squared_error: 0.0173 - mean_absolute_error: 0.0101 - mean_absolute_percentage_error: 18899.7012 - val_loss: 1.6902e-04 - val_root_mean_squared_error: 0.0130 - val_mean_absolute_error: 0.0081 - val_mean_absolute_percentage_error: 2496.2217\n",
      "Epoch 5/100\n",
      "1884/1890 [============================>.] - ETA: 0s - loss: 2.4716e-04 - root_mean_squared_error: 0.0157 - mean_absolute_error: 0.0090 - mean_absolute_percentage_error: 17298.5938"
     ]
    },
    {
     "name": "stderr",
     "output_type": "stream",
     "text": [
      "WARNING:absl:Found untraced functions such as _update_step_xla, lstm_cell_layer_call_fn, lstm_cell_layer_call_and_return_conditional_losses while saving (showing 3 of 3). These functions will not be directly callable after loading.\n"
     ]
    },
    {
     "name": "stdout",
     "output_type": "stream",
     "text": [
      "INFO:tensorflow:Assets written to: model1\\assets\n"
     ]
    },
    {
     "name": "stderr",
     "output_type": "stream",
     "text": [
      "INFO:tensorflow:Assets written to: model1\\assets\n"
     ]
    },
    {
     "name": "stdout",
     "output_type": "stream",
     "text": [
      "1890/1890 [==============================] - 13s 7ms/step - loss: 2.4680e-04 - root_mean_squared_error: 0.0157 - mean_absolute_error: 0.0090 - mean_absolute_percentage_error: 17268.0352 - val_loss: 1.3282e-04 - val_root_mean_squared_error: 0.0115 - val_mean_absolute_error: 0.0068 - val_mean_absolute_percentage_error: 984.0287\n",
      "Epoch 6/100\n",
      "1888/1890 [============================>.] - ETA: 0s - loss: 2.0011e-04 - root_mean_squared_error: 0.0141 - mean_absolute_error: 0.0080 - mean_absolute_percentage_error: 15051.3584"
     ]
    },
    {
     "name": "stderr",
     "output_type": "stream",
     "text": [
      "WARNING:absl:Found untraced functions such as _update_step_xla, lstm_cell_layer_call_fn, lstm_cell_layer_call_and_return_conditional_losses while saving (showing 3 of 3). These functions will not be directly callable after loading.\n"
     ]
    },
    {
     "name": "stdout",
     "output_type": "stream",
     "text": [
      "INFO:tensorflow:Assets written to: model1\\assets\n"
     ]
    },
    {
     "name": "stderr",
     "output_type": "stream",
     "text": [
      "INFO:tensorflow:Assets written to: model1\\assets\n"
     ]
    },
    {
     "name": "stdout",
     "output_type": "stream",
     "text": [
      "1890/1890 [==============================] - 12s 7ms/step - loss: 2.0003e-04 - root_mean_squared_error: 0.0141 - mean_absolute_error: 0.0080 - mean_absolute_percentage_error: 15037.6758 - val_loss: 1.0664e-04 - val_root_mean_squared_error: 0.0103 - val_mean_absolute_error: 0.0061 - val_mean_absolute_percentage_error: 417.5160\n",
      "Epoch 7/100\n",
      "1889/1890 [============================>.] - ETA: 0s - loss: 1.6397e-04 - root_mean_squared_error: 0.0128 - mean_absolute_error: 0.0071 - mean_absolute_percentage_error: 14148.0410"
     ]
    },
    {
     "name": "stderr",
     "output_type": "stream",
     "text": [
      "WARNING:absl:Found untraced functions such as _update_step_xla, lstm_cell_layer_call_fn, lstm_cell_layer_call_and_return_conditional_losses while saving (showing 3 of 3). These functions will not be directly callable after loading.\n"
     ]
    },
    {
     "name": "stdout",
     "output_type": "stream",
     "text": [
      "INFO:tensorflow:Assets written to: model1\\assets\n"
     ]
    },
    {
     "name": "stderr",
     "output_type": "stream",
     "text": [
      "INFO:tensorflow:Assets written to: model1\\assets\n"
     ]
    },
    {
     "name": "stdout",
     "output_type": "stream",
     "text": [
      "1890/1890 [==============================] - 13s 7ms/step - loss: 1.6395e-04 - root_mean_squared_error: 0.0128 - mean_absolute_error: 0.0071 - mean_absolute_percentage_error: 14187.3164 - val_loss: 8.5821e-05 - val_root_mean_squared_error: 0.0093 - val_mean_absolute_error: 0.0056 - val_mean_absolute_percentage_error: 1030.8218\n",
      "Epoch 8/100\n",
      "1889/1890 [============================>.] - ETA: 0s - loss: 1.4055e-04 - root_mean_squared_error: 0.0119 - mean_absolute_error: 0.0065 - mean_absolute_percentage_error: 12453.2686"
     ]
    },
    {
     "name": "stderr",
     "output_type": "stream",
     "text": [
      "WARNING:absl:Found untraced functions such as _update_step_xla, lstm_cell_layer_call_fn, lstm_cell_layer_call_and_return_conditional_losses while saving (showing 3 of 3). These functions will not be directly callable after loading.\n"
     ]
    },
    {
     "name": "stdout",
     "output_type": "stream",
     "text": [
      "INFO:tensorflow:Assets written to: model1\\assets\n"
     ]
    },
    {
     "name": "stderr",
     "output_type": "stream",
     "text": [
      "INFO:tensorflow:Assets written to: model1\\assets\n"
     ]
    },
    {
     "name": "stdout",
     "output_type": "stream",
     "text": [
      "1890/1890 [==============================] - 13s 7ms/step - loss: 1.4052e-04 - root_mean_squared_error: 0.0119 - mean_absolute_error: 0.0065 - mean_absolute_percentage_error: 12448.5342 - val_loss: 7.0869e-05 - val_root_mean_squared_error: 0.0084 - val_mean_absolute_error: 0.0049 - val_mean_absolute_percentage_error: 192.6850\n",
      "Epoch 9/100\n",
      "1889/1890 [============================>.] - ETA: 0s - loss: 1.2587e-04 - root_mean_squared_error: 0.0112 - mean_absolute_error: 0.0060 - mean_absolute_percentage_error: 11552.0020"
     ]
    },
    {
     "name": "stderr",
     "output_type": "stream",
     "text": [
      "WARNING:absl:Found untraced functions such as _update_step_xla, lstm_cell_layer_call_fn, lstm_cell_layer_call_and_return_conditional_losses while saving (showing 3 of 3). These functions will not be directly callable after loading.\n"
     ]
    },
    {
     "name": "stdout",
     "output_type": "stream",
     "text": [
      "INFO:tensorflow:Assets written to: model1\\assets\n"
     ]
    },
    {
     "name": "stderr",
     "output_type": "stream",
     "text": [
      "INFO:tensorflow:Assets written to: model1\\assets\n"
     ]
    },
    {
     "name": "stdout",
     "output_type": "stream",
     "text": [
      "1890/1890 [==============================] - 13s 7ms/step - loss: 1.2586e-04 - root_mean_squared_error: 0.0112 - mean_absolute_error: 0.0060 - mean_absolute_percentage_error: 11555.4580 - val_loss: 6.3450e-05 - val_root_mean_squared_error: 0.0080 - val_mean_absolute_error: 0.0046 - val_mean_absolute_percentage_error: 175.2820\n",
      "Epoch 10/100\n",
      "1884/1890 [============================>.] - ETA: 0s - loss: 1.1653e-04 - root_mean_squared_error: 0.0108 - mean_absolute_error: 0.0057 - mean_absolute_percentage_error: 11962.5127"
     ]
    },
    {
     "name": "stderr",
     "output_type": "stream",
     "text": [
      "WARNING:absl:Found untraced functions such as _update_step_xla, lstm_cell_layer_call_fn, lstm_cell_layer_call_and_return_conditional_losses while saving (showing 3 of 3). These functions will not be directly callable after loading.\n"
     ]
    },
    {
     "name": "stdout",
     "output_type": "stream",
     "text": [
      "INFO:tensorflow:Assets written to: model1\\assets\n"
     ]
    },
    {
     "name": "stderr",
     "output_type": "stream",
     "text": [
      "INFO:tensorflow:Assets written to: model1\\assets\n"
     ]
    },
    {
     "name": "stdout",
     "output_type": "stream",
     "text": [
      "1890/1890 [==============================] - 13s 7ms/step - loss: 1.1642e-04 - root_mean_squared_error: 0.0108 - mean_absolute_error: 0.0057 - mean_absolute_percentage_error: 11951.1572 - val_loss: 5.9456e-05 - val_root_mean_squared_error: 0.0077 - val_mean_absolute_error: 0.0046 - val_mean_absolute_percentage_error: 503.2304\n",
      "Epoch 11/100\n",
      "1879/1890 [============================>.] - ETA: 0s - loss: 1.1096e-04 - root_mean_squared_error: 0.0105 - mean_absolute_error: 0.0056 - mean_absolute_percentage_error: 12832.2119"
     ]
    },
    {
     "name": "stderr",
     "output_type": "stream",
     "text": [
      "WARNING:absl:Found untraced functions such as _update_step_xla, lstm_cell_layer_call_fn, lstm_cell_layer_call_and_return_conditional_losses while saving (showing 3 of 3). These functions will not be directly callable after loading.\n"
     ]
    },
    {
     "name": "stdout",
     "output_type": "stream",
     "text": [
      "INFO:tensorflow:Assets written to: model1\\assets\n"
     ]
    },
    {
     "name": "stderr",
     "output_type": "stream",
     "text": [
      "INFO:tensorflow:Assets written to: model1\\assets\n"
     ]
    },
    {
     "name": "stdout",
     "output_type": "stream",
     "text": [
      "1890/1890 [==============================] - 13s 7ms/step - loss: 1.1093e-04 - root_mean_squared_error: 0.0105 - mean_absolute_error: 0.0056 - mean_absolute_percentage_error: 13039.8252 - val_loss: 5.6084e-05 - val_root_mean_squared_error: 0.0075 - val_mean_absolute_error: 0.0044 - val_mean_absolute_percentage_error: 186.4597\n",
      "Epoch 12/100\n",
      "1890/1890 [==============================] - 10s 5ms/step - loss: 1.0772e-04 - root_mean_squared_error: 0.0104 - mean_absolute_error: 0.0055 - mean_absolute_percentage_error: 13083.5605 - val_loss: 6.9157e-05 - val_root_mean_squared_error: 0.0083 - val_mean_absolute_error: 0.0053 - val_mean_absolute_percentage_error: 878.9145\n",
      "Epoch 13/100\n",
      "1880/1890 [============================>.] - ETA: 0s - loss: 1.0402e-04 - root_mean_squared_error: 0.0102 - mean_absolute_error: 0.0053 - mean_absolute_percentage_error: 11352.5947"
     ]
    },
    {
     "name": "stderr",
     "output_type": "stream",
     "text": [
      "WARNING:absl:Found untraced functions such as _update_step_xla, lstm_cell_layer_call_fn, lstm_cell_layer_call_and_return_conditional_losses while saving (showing 3 of 3). These functions will not be directly callable after loading.\n"
     ]
    },
    {
     "name": "stdout",
     "output_type": "stream",
     "text": [
      "INFO:tensorflow:Assets written to: model1\\assets\n"
     ]
    },
    {
     "name": "stderr",
     "output_type": "stream",
     "text": [
      "INFO:tensorflow:Assets written to: model1\\assets\n"
     ]
    },
    {
     "name": "stdout",
     "output_type": "stream",
     "text": [
      "1890/1890 [==============================] - 13s 7ms/step - loss: 1.0376e-04 - root_mean_squared_error: 0.0102 - mean_absolute_error: 0.0053 - mean_absolute_percentage_error: 11313.2910 - val_loss: 5.1904e-05 - val_root_mean_squared_error: 0.0072 - val_mean_absolute_error: 0.0041 - val_mean_absolute_percentage_error: 306.5080\n",
      "Epoch 14/100\n",
      "1890/1890 [==============================] - 10s 5ms/step - loss: 1.0392e-04 - root_mean_squared_error: 0.0102 - mean_absolute_error: 0.0053 - mean_absolute_percentage_error: 12065.8467 - val_loss: 5.2817e-05 - val_root_mean_squared_error: 0.0073 - val_mean_absolute_error: 0.0042 - val_mean_absolute_percentage_error: 299.4313\n",
      "Epoch 15/100\n",
      "1890/1890 [==============================] - 10s 5ms/step - loss: 1.0294e-04 - root_mean_squared_error: 0.0101 - mean_absolute_error: 0.0053 - mean_absolute_percentage_error: 14178.7607 - val_loss: 5.2538e-05 - val_root_mean_squared_error: 0.0072 - val_mean_absolute_error: 0.0042 - val_mean_absolute_percentage_error: 534.4487\n",
      "Epoch 16/100\n",
      "1890/1890 [==============================] - 10s 5ms/step - loss: 1.0252e-04 - root_mean_squared_error: 0.0101 - mean_absolute_error: 0.0052 - mean_absolute_percentage_error: 13601.9873 - val_loss: 5.2035e-05 - val_root_mean_squared_error: 0.0072 - val_mean_absolute_error: 0.0042 - val_mean_absolute_percentage_error: 725.3560\n",
      "Epoch 17/100\n",
      "1886/1890 [============================>.] - ETA: 0s - loss: 1.0156e-04 - root_mean_squared_error: 0.0101 - mean_absolute_error: 0.0052 - mean_absolute_percentage_error: 12492.9629"
     ]
    },
    {
     "name": "stderr",
     "output_type": "stream",
     "text": [
      "WARNING:absl:Found untraced functions such as _update_step_xla, lstm_cell_layer_call_fn, lstm_cell_layer_call_and_return_conditional_losses while saving (showing 3 of 3). These functions will not be directly callable after loading.\n"
     ]
    },
    {
     "name": "stdout",
     "output_type": "stream",
     "text": [
      "INFO:tensorflow:Assets written to: model1\\assets\n"
     ]
    },
    {
     "name": "stderr",
     "output_type": "stream",
     "text": [
      "INFO:tensorflow:Assets written to: model1\\assets\n"
     ]
    },
    {
     "name": "stdout",
     "output_type": "stream",
     "text": [
      "1890/1890 [==============================] - 13s 7ms/step - loss: 1.0146e-04 - root_mean_squared_error: 0.0101 - mean_absolute_error: 0.0052 - mean_absolute_percentage_error: 12498.2363 - val_loss: 5.0978e-05 - val_root_mean_squared_error: 0.0071 - val_mean_absolute_error: 0.0041 - val_mean_absolute_percentage_error: 719.5758\n",
      "Epoch 18/100\n",
      "1889/1890 [============================>.] - ETA: 0s - loss: 1.0074e-04 - root_mean_squared_error: 0.0100 - mean_absolute_error: 0.0052 - mean_absolute_percentage_error: 12785.2900"
     ]
    },
    {
     "name": "stderr",
     "output_type": "stream",
     "text": [
      "WARNING:absl:Found untraced functions such as _update_step_xla, lstm_cell_layer_call_fn, lstm_cell_layer_call_and_return_conditional_losses while saving (showing 3 of 3). These functions will not be directly callable after loading.\n"
     ]
    },
    {
     "name": "stdout",
     "output_type": "stream",
     "text": [
      "INFO:tensorflow:Assets written to: model1\\assets\n"
     ]
    },
    {
     "name": "stderr",
     "output_type": "stream",
     "text": [
      "INFO:tensorflow:Assets written to: model1\\assets\n"
     ]
    },
    {
     "name": "stdout",
     "output_type": "stream",
     "text": [
      "1890/1890 [==============================] - 14s 7ms/step - loss: 1.0072e-04 - root_mean_squared_error: 0.0100 - mean_absolute_error: 0.0052 - mean_absolute_percentage_error: 12780.4297 - val_loss: 5.0888e-05 - val_root_mean_squared_error: 0.0071 - val_mean_absolute_error: 0.0041 - val_mean_absolute_percentage_error: 474.9579\n",
      "Epoch 19/100\n",
      "1890/1890 [==============================] - 10s 5ms/step - loss: 9.9772e-05 - root_mean_squared_error: 0.0100 - mean_absolute_error: 0.0051 - mean_absolute_percentage_error: 11629.2656 - val_loss: 5.3038e-05 - val_root_mean_squared_error: 0.0073 - val_mean_absolute_error: 0.0042 - val_mean_absolute_percentage_error: 431.7490\n",
      "Epoch 20/100\n",
      "1890/1890 [==============================] - 10s 5ms/step - loss: 9.9688e-05 - root_mean_squared_error: 0.0100 - mean_absolute_error: 0.0051 - mean_absolute_percentage_error: 11540.5254 - val_loss: 5.8029e-05 - val_root_mean_squared_error: 0.0076 - val_mean_absolute_error: 0.0049 - val_mean_absolute_percentage_error: 1785.0275\n",
      "Epoch 21/100\n",
      "1882/1890 [============================>.] - ETA: 0s - loss: 9.9686e-05 - root_mean_squared_error: 0.0100 - mean_absolute_error: 0.0051 - mean_absolute_percentage_error: 12527.3389"
     ]
    },
    {
     "name": "stderr",
     "output_type": "stream",
     "text": [
      "WARNING:absl:Found untraced functions such as _update_step_xla, lstm_cell_layer_call_fn, lstm_cell_layer_call_and_return_conditional_losses while saving (showing 3 of 3). These functions will not be directly callable after loading.\n"
     ]
    },
    {
     "name": "stdout",
     "output_type": "stream",
     "text": [
      "INFO:tensorflow:Assets written to: model1\\assets\n"
     ]
    },
    {
     "name": "stderr",
     "output_type": "stream",
     "text": [
      "INFO:tensorflow:Assets written to: model1\\assets\n"
     ]
    },
    {
     "name": "stdout",
     "output_type": "stream",
     "text": [
      "1890/1890 [==============================] - 13s 7ms/step - loss: 9.9459e-05 - root_mean_squared_error: 0.0100 - mean_absolute_error: 0.0051 - mean_absolute_percentage_error: 12504.4785 - val_loss: 4.9974e-05 - val_root_mean_squared_error: 0.0071 - val_mean_absolute_error: 0.0040 - val_mean_absolute_percentage_error: 144.4286\n",
      "Epoch 22/100\n",
      "1890/1890 [==============================] - 11s 6ms/step - loss: 9.8917e-05 - root_mean_squared_error: 0.0099 - mean_absolute_error: 0.0051 - mean_absolute_percentage_error: 11506.4619 - val_loss: 5.2135e-05 - val_root_mean_squared_error: 0.0072 - val_mean_absolute_error: 0.0043 - val_mean_absolute_percentage_error: 333.1320\n",
      "Epoch 23/100\n",
      "1890/1890 [==============================] - ETA: 0s - loss: 9.8860e-05 - root_mean_squared_error: 0.0099 - mean_absolute_error: 0.0051 - mean_absolute_percentage_error: 12339.4307"
     ]
    },
    {
     "name": "stderr",
     "output_type": "stream",
     "text": [
      "WARNING:absl:Found untraced functions such as _update_step_xla, lstm_cell_layer_call_fn, lstm_cell_layer_call_and_return_conditional_losses while saving (showing 3 of 3). These functions will not be directly callable after loading.\n"
     ]
    },
    {
     "name": "stdout",
     "output_type": "stream",
     "text": [
      "INFO:tensorflow:Assets written to: model1\\assets\n"
     ]
    },
    {
     "name": "stderr",
     "output_type": "stream",
     "text": [
      "INFO:tensorflow:Assets written to: model1\\assets\n"
     ]
    },
    {
     "name": "stdout",
     "output_type": "stream",
     "text": [
      "1890/1890 [==============================] - 14s 8ms/step - loss: 9.8860e-05 - root_mean_squared_error: 0.0099 - mean_absolute_error: 0.0051 - mean_absolute_percentage_error: 12339.4307 - val_loss: 4.9166e-05 - val_root_mean_squared_error: 0.0070 - val_mean_absolute_error: 0.0040 - val_mean_absolute_percentage_error: 563.3376\n",
      "Epoch 24/100\n",
      "1884/1890 [============================>.] - ETA: 0s - loss: 9.8641e-05 - root_mean_squared_error: 0.0099 - mean_absolute_error: 0.0050 - mean_absolute_percentage_error: 11597.9971"
     ]
    },
    {
     "name": "stderr",
     "output_type": "stream",
     "text": [
      "WARNING:absl:Found untraced functions such as _update_step_xla, lstm_cell_layer_call_fn, lstm_cell_layer_call_and_return_conditional_losses while saving (showing 3 of 3). These functions will not be directly callable after loading.\n"
     ]
    },
    {
     "name": "stdout",
     "output_type": "stream",
     "text": [
      "INFO:tensorflow:Assets written to: model1\\assets\n"
     ]
    },
    {
     "name": "stderr",
     "output_type": "stream",
     "text": [
      "INFO:tensorflow:Assets written to: model1\\assets\n"
     ]
    },
    {
     "name": "stdout",
     "output_type": "stream",
     "text": [
      "1890/1890 [==============================] - 13s 7ms/step - loss: 9.8534e-05 - root_mean_squared_error: 0.0099 - mean_absolute_error: 0.0050 - mean_absolute_percentage_error: 11578.7314 - val_loss: 4.9142e-05 - val_root_mean_squared_error: 0.0070 - val_mean_absolute_error: 0.0040 - val_mean_absolute_percentage_error: 364.1073\n",
      "Epoch 25/100\n",
      "1890/1890 [==============================] - 10s 6ms/step - loss: 9.7961e-05 - root_mean_squared_error: 0.0099 - mean_absolute_error: 0.0050 - mean_absolute_percentage_error: 11862.9551 - val_loss: 5.2110e-05 - val_root_mean_squared_error: 0.0072 - val_mean_absolute_error: 0.0044 - val_mean_absolute_percentage_error: 1217.6797\n",
      "Epoch 26/100\n",
      "1886/1890 [============================>.] - ETA: 0s - loss: 9.7729e-05 - root_mean_squared_error: 0.0099 - mean_absolute_error: 0.0050 - mean_absolute_percentage_error: 11942.5840"
     ]
    },
    {
     "name": "stderr",
     "output_type": "stream",
     "text": [
      "WARNING:absl:Found untraced functions such as _update_step_xla, lstm_cell_layer_call_fn, lstm_cell_layer_call_and_return_conditional_losses while saving (showing 3 of 3). These functions will not be directly callable after loading.\n"
     ]
    },
    {
     "name": "stdout",
     "output_type": "stream",
     "text": [
      "INFO:tensorflow:Assets written to: model1\\assets\n"
     ]
    },
    {
     "name": "stderr",
     "output_type": "stream",
     "text": [
      "INFO:tensorflow:Assets written to: model1\\assets\n"
     ]
    },
    {
     "name": "stdout",
     "output_type": "stream",
     "text": [
      "1890/1890 [==============================] - 14s 7ms/step - loss: 9.7746e-05 - root_mean_squared_error: 0.0099 - mean_absolute_error: 0.0050 - mean_absolute_percentage_error: 11943.7900 - val_loss: 4.8889e-05 - val_root_mean_squared_error: 0.0070 - val_mean_absolute_error: 0.0040 - val_mean_absolute_percentage_error: 514.1846\n",
      "Epoch 27/100\n",
      "1890/1890 [==============================] - 10s 5ms/step - loss: 9.7360e-05 - root_mean_squared_error: 0.0099 - mean_absolute_error: 0.0050 - mean_absolute_percentage_error: 12293.6064 - val_loss: 6.0605e-05 - val_root_mean_squared_error: 0.0078 - val_mean_absolute_error: 0.0053 - val_mean_absolute_percentage_error: 1940.3602\n",
      "Epoch 28/100\n",
      "1890/1890 [==============================] - 10s 5ms/step - loss: 9.7606e-05 - root_mean_squared_error: 0.0099 - mean_absolute_error: 0.0050 - mean_absolute_percentage_error: 12437.6465 - val_loss: 4.9219e-05 - val_root_mean_squared_error: 0.0070 - val_mean_absolute_error: 0.0041 - val_mean_absolute_percentage_error: 904.9985\n",
      "Epoch 29/100\n",
      "1890/1890 [==============================] - 10s 5ms/step - loss: 9.6454e-05 - root_mean_squared_error: 0.0098 - mean_absolute_error: 0.0049 - mean_absolute_percentage_error: 11162.6719 - val_loss: 5.3796e-05 - val_root_mean_squared_error: 0.0073 - val_mean_absolute_error: 0.0043 - val_mean_absolute_percentage_error: 267.6666\n",
      "Epoch 30/100\n",
      "1879/1890 [============================>.] - ETA: 0s - loss: 9.7117e-05 - root_mean_squared_error: 0.0099 - mean_absolute_error: 0.0050 - mean_absolute_percentage_error: 11859.2344"
     ]
    },
    {
     "name": "stderr",
     "output_type": "stream",
     "text": [
      "WARNING:absl:Found untraced functions such as _update_step_xla, lstm_cell_layer_call_fn, lstm_cell_layer_call_and_return_conditional_losses while saving (showing 3 of 3). These functions will not be directly callable after loading.\n"
     ]
    },
    {
     "name": "stdout",
     "output_type": "stream",
     "text": [
      "INFO:tensorflow:Assets written to: model1\\assets\n"
     ]
    },
    {
     "name": "stderr",
     "output_type": "stream",
     "text": [
      "INFO:tensorflow:Assets written to: model1\\assets\n"
     ]
    },
    {
     "name": "stdout",
     "output_type": "stream",
     "text": [
      "1890/1890 [==============================] - 13s 7ms/step - loss: 9.6958e-05 - root_mean_squared_error: 0.0098 - mean_absolute_error: 0.0050 - mean_absolute_percentage_error: 11808.7773 - val_loss: 4.8197e-05 - val_root_mean_squared_error: 0.0069 - val_mean_absolute_error: 0.0040 - val_mean_absolute_percentage_error: 669.4437\n",
      "Epoch 31/100\n",
      "1890/1890 [==============================] - 10s 5ms/step - loss: 9.7044e-05 - root_mean_squared_error: 0.0099 - mean_absolute_error: 0.0050 - mean_absolute_percentage_error: 12267.3027 - val_loss: 4.8437e-05 - val_root_mean_squared_error: 0.0070 - val_mean_absolute_error: 0.0040 - val_mean_absolute_percentage_error: 204.1384\n",
      "Epoch 32/100\n",
      "1885/1890 [============================>.] - ETA: 0s - loss: 9.6283e-05 - root_mean_squared_error: 0.0098 - mean_absolute_error: 0.0049 - mean_absolute_percentage_error: 11289.4941"
     ]
    },
    {
     "name": "stderr",
     "output_type": "stream",
     "text": [
      "WARNING:absl:Found untraced functions such as _update_step_xla, lstm_cell_layer_call_fn, lstm_cell_layer_call_and_return_conditional_losses while saving (showing 3 of 3). These functions will not be directly callable after loading.\n"
     ]
    },
    {
     "name": "stdout",
     "output_type": "stream",
     "text": [
      "INFO:tensorflow:Assets written to: model1\\assets\n"
     ]
    },
    {
     "name": "stderr",
     "output_type": "stream",
     "text": [
      "INFO:tensorflow:Assets written to: model1\\assets\n"
     ]
    },
    {
     "name": "stdout",
     "output_type": "stream",
     "text": [
      "1890/1890 [==============================] - 13s 7ms/step - loss: 9.6447e-05 - root_mean_squared_error: 0.0098 - mean_absolute_error: 0.0049 - mean_absolute_percentage_error: 11276.4805 - val_loss: 4.8124e-05 - val_root_mean_squared_error: 0.0069 - val_mean_absolute_error: 0.0040 - val_mean_absolute_percentage_error: 324.2076\n",
      "Epoch 33/100\n",
      "1890/1890 [==============================] - 10s 5ms/step - loss: 9.5887e-05 - root_mean_squared_error: 0.0098 - mean_absolute_error: 0.0049 - mean_absolute_percentage_error: 12291.7256 - val_loss: 4.8201e-05 - val_root_mean_squared_error: 0.0069 - val_mean_absolute_error: 0.0040 - val_mean_absolute_percentage_error: 270.8622\n",
      "Epoch 34/100\n",
      "1890/1890 [==============================] - 11s 6ms/step - loss: 9.5838e-05 - root_mean_squared_error: 0.0098 - mean_absolute_error: 0.0049 - mean_absolute_percentage_error: 12675.0869 - val_loss: 4.8243e-05 - val_root_mean_squared_error: 0.0069 - val_mean_absolute_error: 0.0040 - val_mean_absolute_percentage_error: 286.1783\n",
      "Epoch 35/100\n",
      "1890/1890 [==============================] - 10s 6ms/step - loss: 9.5548e-05 - root_mean_squared_error: 0.0098 - mean_absolute_error: 0.0049 - mean_absolute_percentage_error: 12054.0059 - val_loss: 7.2201e-05 - val_root_mean_squared_error: 0.0085 - val_mean_absolute_error: 0.0062 - val_mean_absolute_percentage_error: 2708.6501\n",
      "Epoch 36/100\n",
      "1890/1890 [==============================] - 10s 6ms/step - loss: 9.6345e-05 - root_mean_squared_error: 0.0098 - mean_absolute_error: 0.0050 - mean_absolute_percentage_error: 13061.7363 - val_loss: 5.0290e-05 - val_root_mean_squared_error: 0.0071 - val_mean_absolute_error: 0.0041 - val_mean_absolute_percentage_error: 581.2661\n",
      "Epoch 37/100\n",
      "1890/1890 [==============================] - 10s 6ms/step - loss: 9.5992e-05 - root_mean_squared_error: 0.0098 - mean_absolute_error: 0.0049 - mean_absolute_percentage_error: 12094.5811 - val_loss: 4.8169e-05 - val_root_mean_squared_error: 0.0069 - val_mean_absolute_error: 0.0040 - val_mean_absolute_percentage_error: 123.5657\n",
      "Epoch 38/100\n",
      "1890/1890 [==============================] - 10s 5ms/step - loss: 9.5245e-05 - root_mean_squared_error: 0.0098 - mean_absolute_error: 0.0049 - mean_absolute_percentage_error: 11644.7500 - val_loss: 5.3238e-05 - val_root_mean_squared_error: 0.0073 - val_mean_absolute_error: 0.0045 - val_mean_absolute_percentage_error: 1019.2137\n",
      "Epoch 39/100\n",
      "1890/1890 [==============================] - 10s 5ms/step - loss: 9.5507e-05 - root_mean_squared_error: 0.0098 - mean_absolute_error: 0.0049 - mean_absolute_percentage_error: 12279.5244 - val_loss: 4.8320e-05 - val_root_mean_squared_error: 0.0070 - val_mean_absolute_error: 0.0040 - val_mean_absolute_percentage_error: 295.9103\n",
      "Epoch 40/100\n",
      "1888/1890 [============================>.] - ETA: 0s - loss: 9.5283e-05 - root_mean_squared_error: 0.0098 - mean_absolute_error: 0.0049 - mean_absolute_percentage_error: 11107.1484"
     ]
    },
    {
     "name": "stderr",
     "output_type": "stream",
     "text": [
      "WARNING:absl:Found untraced functions such as _update_step_xla, lstm_cell_layer_call_fn, lstm_cell_layer_call_and_return_conditional_losses while saving (showing 3 of 3). These functions will not be directly callable after loading.\n"
     ]
    },
    {
     "name": "stdout",
     "output_type": "stream",
     "text": [
      "INFO:tensorflow:Assets written to: model1\\assets\n"
     ]
    },
    {
     "name": "stderr",
     "output_type": "stream",
     "text": [
      "INFO:tensorflow:Assets written to: model1\\assets\n"
     ]
    },
    {
     "name": "stdout",
     "output_type": "stream",
     "text": [
      "1890/1890 [==============================] - 14s 7ms/step - loss: 9.5352e-05 - root_mean_squared_error: 0.0098 - mean_absolute_error: 0.0049 - mean_absolute_percentage_error: 11156.4287 - val_loss: 4.8002e-05 - val_root_mean_squared_error: 0.0069 - val_mean_absolute_error: 0.0040 - val_mean_absolute_percentage_error: 929.8486\n",
      "Epoch 41/100\n",
      "1890/1890 [==============================] - 10s 5ms/step - loss: 9.4920e-05 - root_mean_squared_error: 0.0097 - mean_absolute_error: 0.0049 - mean_absolute_percentage_error: 11491.1885 - val_loss: 4.8526e-05 - val_root_mean_squared_error: 0.0070 - val_mean_absolute_error: 0.0040 - val_mean_absolute_percentage_error: 216.2209\n",
      "Epoch 42/100\n",
      "1890/1890 [==============================] - 10s 5ms/step - loss: 9.5309e-05 - root_mean_squared_error: 0.0098 - mean_absolute_error: 0.0049 - mean_absolute_percentage_error: 12705.1865 - val_loss: 5.0382e-05 - val_root_mean_squared_error: 0.0071 - val_mean_absolute_error: 0.0041 - val_mean_absolute_percentage_error: 460.5258\n",
      "Epoch 43/100\n",
      "1890/1890 [==============================] - 10s 5ms/step - loss: 9.5008e-05 - root_mean_squared_error: 0.0097 - mean_absolute_error: 0.0049 - mean_absolute_percentage_error: 11010.2100 - val_loss: 4.8857e-05 - val_root_mean_squared_error: 0.0070 - val_mean_absolute_error: 0.0042 - val_mean_absolute_percentage_error: 1430.8784\n",
      "Epoch 44/100\n",
      "1890/1890 [==============================] - 10s 5ms/step - loss: 9.5182e-05 - root_mean_squared_error: 0.0098 - mean_absolute_error: 0.0049 - mean_absolute_percentage_error: 11821.0947 - val_loss: 4.8202e-05 - val_root_mean_squared_error: 0.0069 - val_mean_absolute_error: 0.0040 - val_mean_absolute_percentage_error: 630.4835\n",
      "Epoch 45/100\n",
      "1885/1890 [============================>.] - ETA: 0s - loss: 9.3367e-05 - root_mean_squared_error: 0.0097 - mean_absolute_error: 0.0048 - mean_absolute_percentage_error: 10551.2168"
     ]
    },
    {
     "name": "stderr",
     "output_type": "stream",
     "text": [
      "WARNING:absl:Found untraced functions such as _update_step_xla, lstm_cell_layer_call_fn, lstm_cell_layer_call_and_return_conditional_losses while saving (showing 3 of 3). These functions will not be directly callable after loading.\n"
     ]
    },
    {
     "name": "stdout",
     "output_type": "stream",
     "text": [
      "INFO:tensorflow:Assets written to: model1\\assets\n"
     ]
    },
    {
     "name": "stderr",
     "output_type": "stream",
     "text": [
      "INFO:tensorflow:Assets written to: model1\\assets\n"
     ]
    },
    {
     "name": "stdout",
     "output_type": "stream",
     "text": [
      "1890/1890 [==============================] - 13s 7ms/step - loss: 9.4707e-05 - root_mean_squared_error: 0.0097 - mean_absolute_error: 0.0049 - mean_absolute_percentage_error: 10547.0723 - val_loss: 4.7579e-05 - val_root_mean_squared_error: 0.0069 - val_mean_absolute_error: 0.0039 - val_mean_absolute_percentage_error: 333.1597\n",
      "Epoch 46/100\n",
      "1890/1890 [==============================] - 10s 5ms/step - loss: 9.4577e-05 - root_mean_squared_error: 0.0097 - mean_absolute_error: 0.0048 - mean_absolute_percentage_error: 10901.4375 - val_loss: 4.7950e-05 - val_root_mean_squared_error: 0.0069 - val_mean_absolute_error: 0.0040 - val_mean_absolute_percentage_error: 237.3968\n",
      "Epoch 47/100\n",
      "1890/1890 [==============================] - 10s 5ms/step - loss: 9.4856e-05 - root_mean_squared_error: 0.0097 - mean_absolute_error: 0.0049 - mean_absolute_percentage_error: 11839.0605 - val_loss: 4.9856e-05 - val_root_mean_squared_error: 0.0071 - val_mean_absolute_error: 0.0044 - val_mean_absolute_percentage_error: 1386.9918\n",
      "Epoch 48/100\n",
      "1890/1890 [==============================] - 10s 5ms/step - loss: 9.4453e-05 - root_mean_squared_error: 0.0097 - mean_absolute_error: 0.0049 - mean_absolute_percentage_error: 11251.0781 - val_loss: 4.9268e-05 - val_root_mean_squared_error: 0.0070 - val_mean_absolute_error: 0.0043 - val_mean_absolute_percentage_error: 1785.9836\n",
      "Epoch 49/100\n",
      "1890/1890 [==============================] - 10s 5ms/step - loss: 9.4430e-05 - root_mean_squared_error: 0.0097 - mean_absolute_error: 0.0049 - mean_absolute_percentage_error: 11160.8955 - val_loss: 5.1021e-05 - val_root_mean_squared_error: 0.0071 - val_mean_absolute_error: 0.0044 - val_mean_absolute_percentage_error: 1112.5775\n",
      "Epoch 50/100\n",
      "1890/1890 [==============================] - 10s 5ms/step - loss: 9.4226e-05 - root_mean_squared_error: 0.0097 - mean_absolute_error: 0.0048 - mean_absolute_percentage_error: 11040.1191 - val_loss: 4.8857e-05 - val_root_mean_squared_error: 0.0070 - val_mean_absolute_error: 0.0040 - val_mean_absolute_percentage_error: 272.2428\n",
      "Epoch 51/100\n",
      "1890/1890 [==============================] - 10s 5ms/step - loss: 9.4128e-05 - root_mean_squared_error: 0.0097 - mean_absolute_error: 0.0048 - mean_absolute_percentage_error: 10044.5166 - val_loss: 5.2309e-05 - val_root_mean_squared_error: 0.0072 - val_mean_absolute_error: 0.0044 - val_mean_absolute_percentage_error: 894.9189\n",
      "Epoch 52/100\n",
      "1890/1890 [==============================] - 10s 5ms/step - loss: 9.4229e-05 - root_mean_squared_error: 0.0097 - mean_absolute_error: 0.0048 - mean_absolute_percentage_error: 10086.7568 - val_loss: 4.9393e-05 - val_root_mean_squared_error: 0.0070 - val_mean_absolute_error: 0.0041 - val_mean_absolute_percentage_error: 133.3066\n",
      "Epoch 53/100\n",
      "1890/1890 [==============================] - 10s 5ms/step - loss: 9.4496e-05 - root_mean_squared_error: 0.0097 - mean_absolute_error: 0.0048 - mean_absolute_percentage_error: 10289.9980 - val_loss: 4.8614e-05 - val_root_mean_squared_error: 0.0070 - val_mean_absolute_error: 0.0040 - val_mean_absolute_percentage_error: 323.1044\n",
      "Epoch 54/100\n",
      "1890/1890 [==============================] - 10s 5ms/step - loss: 9.4023e-05 - root_mean_squared_error: 0.0097 - mean_absolute_error: 0.0048 - mean_absolute_percentage_error: 10503.2920 - val_loss: 6.0838e-05 - val_root_mean_squared_error: 0.0078 - val_mean_absolute_error: 0.0048 - val_mean_absolute_percentage_error: 910.8751\n",
      "Epoch 55/100\n",
      "1890/1890 [==============================] - 10s 5ms/step - loss: 9.4266e-05 - root_mean_squared_error: 0.0097 - mean_absolute_error: 0.0048 - mean_absolute_percentage_error: 11191.0547 - val_loss: 4.7737e-05 - val_root_mean_squared_error: 0.0069 - val_mean_absolute_error: 0.0040 - val_mean_absolute_percentage_error: 235.3304\n",
      "Epoch 56/100\n",
      "1881/1890 [============================>.] - ETA: 0s - loss: 9.4030e-05 - root_mean_squared_error: 0.0097 - mean_absolute_error: 0.0048 - mean_absolute_percentage_error: 10507.7715"
     ]
    },
    {
     "name": "stderr",
     "output_type": "stream",
     "text": [
      "WARNING:absl:Found untraced functions such as _update_step_xla, lstm_cell_layer_call_fn, lstm_cell_layer_call_and_return_conditional_losses while saving (showing 3 of 3). These functions will not be directly callable after loading.\n"
     ]
    },
    {
     "name": "stdout",
     "output_type": "stream",
     "text": [
      "INFO:tensorflow:Assets written to: model1\\assets\n"
     ]
    },
    {
     "name": "stderr",
     "output_type": "stream",
     "text": [
      "INFO:tensorflow:Assets written to: model1\\assets\n"
     ]
    },
    {
     "name": "stdout",
     "output_type": "stream",
     "text": [
      "1890/1890 [==============================] - 13s 7ms/step - loss: 9.4244e-05 - root_mean_squared_error: 0.0097 - mean_absolute_error: 0.0048 - mean_absolute_percentage_error: 10536.0225 - val_loss: 4.7388e-05 - val_root_mean_squared_error: 0.0069 - val_mean_absolute_error: 0.0039 - val_mean_absolute_percentage_error: 174.3858\n",
      "Epoch 57/100\n",
      "1890/1890 [==============================] - 10s 5ms/step - loss: 9.3977e-05 - root_mean_squared_error: 0.0097 - mean_absolute_error: 0.0048 - mean_absolute_percentage_error: 10736.3154 - val_loss: 4.7761e-05 - val_root_mean_squared_error: 0.0069 - val_mean_absolute_error: 0.0039 - val_mean_absolute_percentage_error: 127.2197\n",
      "Epoch 58/100\n",
      "1890/1890 [==============================] - 9s 5ms/step - loss: 9.3990e-05 - root_mean_squared_error: 0.0097 - mean_absolute_error: 0.0048 - mean_absolute_percentage_error: 10395.2695 - val_loss: 5.2123e-05 - val_root_mean_squared_error: 0.0072 - val_mean_absolute_error: 0.0042 - val_mean_absolute_percentage_error: 370.9117\n",
      "Epoch 59/100\n",
      "1890/1890 [==============================] - 10s 5ms/step - loss: 9.4054e-05 - root_mean_squared_error: 0.0097 - mean_absolute_error: 0.0048 - mean_absolute_percentage_error: 9789.4453 - val_loss: 4.7848e-05 - val_root_mean_squared_error: 0.0069 - val_mean_absolute_error: 0.0039 - val_mean_absolute_percentage_error: 269.1999\n",
      "Epoch 60/100\n",
      "1890/1890 [==============================] - 10s 5ms/step - loss: 9.3880e-05 - root_mean_squared_error: 0.0097 - mean_absolute_error: 0.0048 - mean_absolute_percentage_error: 9668.3682 - val_loss: 5.3384e-05 - val_root_mean_squared_error: 0.0073 - val_mean_absolute_error: 0.0046 - val_mean_absolute_percentage_error: 1136.9802\n",
      "Epoch 61/100\n",
      "1890/1890 [==============================] - 10s 5ms/step - loss: 9.3843e-05 - root_mean_squared_error: 0.0097 - mean_absolute_error: 0.0048 - mean_absolute_percentage_error: 9654.0107 - val_loss: 4.8743e-05 - val_root_mean_squared_error: 0.0070 - val_mean_absolute_error: 0.0040 - val_mean_absolute_percentage_error: 627.8614\n",
      "Epoch 62/100\n",
      "1890/1890 [==============================] - 10s 5ms/step - loss: 9.4227e-05 - root_mean_squared_error: 0.0097 - mean_absolute_error: 0.0048 - mean_absolute_percentage_error: 10876.2334 - val_loss: 5.1711e-05 - val_root_mean_squared_error: 0.0072 - val_mean_absolute_error: 0.0042 - val_mean_absolute_percentage_error: 451.3609\n",
      "Epoch 63/100\n",
      "1890/1890 [==============================] - 9s 5ms/step - loss: 9.3824e-05 - root_mean_squared_error: 0.0097 - mean_absolute_error: 0.0048 - mean_absolute_percentage_error: 10327.0713 - val_loss: 4.8505e-05 - val_root_mean_squared_error: 0.0070 - val_mean_absolute_error: 0.0041 - val_mean_absolute_percentage_error: 622.7125\n",
      "Epoch 64/100\n",
      "1890/1890 [==============================] - 10s 5ms/step - loss: 9.3817e-05 - root_mean_squared_error: 0.0097 - mean_absolute_error: 0.0048 - mean_absolute_percentage_error: 10516.4844 - val_loss: 4.7482e-05 - val_root_mean_squared_error: 0.0069 - val_mean_absolute_error: 0.0039 - val_mean_absolute_percentage_error: 302.3143\n",
      "Epoch 65/100\n",
      "1890/1890 [==============================] - 10s 5ms/step - loss: 9.3766e-05 - root_mean_squared_error: 0.0097 - mean_absolute_error: 0.0048 - mean_absolute_percentage_error: 9608.4561 - val_loss: 5.2707e-05 - val_root_mean_squared_error: 0.0073 - val_mean_absolute_error: 0.0047 - val_mean_absolute_percentage_error: 2064.5005\n",
      "Epoch 66/100\n",
      "1890/1890 [==============================] - 10s 5ms/step - loss: 9.3843e-05 - root_mean_squared_error: 0.0097 - mean_absolute_error: 0.0048 - mean_absolute_percentage_error: 9679.5488 - val_loss: 4.7787e-05 - val_root_mean_squared_error: 0.0069 - val_mean_absolute_error: 0.0040 - val_mean_absolute_percentage_error: 803.0180\n",
      "Epoch 67/100\n",
      "1884/1890 [============================>.] - ETA: 0s - loss: 9.3786e-05 - root_mean_squared_error: 0.0097 - mean_absolute_error: 0.0048 - mean_absolute_percentage_error: 9104.1367"
     ]
    },
    {
     "name": "stderr",
     "output_type": "stream",
     "text": [
      "WARNING:absl:Found untraced functions such as _update_step_xla, lstm_cell_layer_call_fn, lstm_cell_layer_call_and_return_conditional_losses while saving (showing 3 of 3). These functions will not be directly callable after loading.\n"
     ]
    },
    {
     "name": "stdout",
     "output_type": "stream",
     "text": [
      "INFO:tensorflow:Assets written to: model1\\assets\n"
     ]
    },
    {
     "name": "stderr",
     "output_type": "stream",
     "text": [
      "INFO:tensorflow:Assets written to: model1\\assets\n"
     ]
    },
    {
     "name": "stdout",
     "output_type": "stream",
     "text": [
      "1890/1890 [==============================] - 13s 7ms/step - loss: 9.3694e-05 - root_mean_squared_error: 0.0097 - mean_absolute_error: 0.0048 - mean_absolute_percentage_error: 9148.7764 - val_loss: 4.7307e-05 - val_root_mean_squared_error: 0.0069 - val_mean_absolute_error: 0.0039 - val_mean_absolute_percentage_error: 417.3711\n",
      "Epoch 68/100\n",
      "1890/1890 [==============================] - 10s 6ms/step - loss: 9.3723e-05 - root_mean_squared_error: 0.0097 - mean_absolute_error: 0.0048 - mean_absolute_percentage_error: 10089.7900 - val_loss: 5.1977e-05 - val_root_mean_squared_error: 0.0072 - val_mean_absolute_error: 0.0042 - val_mean_absolute_percentage_error: 163.2351\n",
      "Epoch 69/100\n",
      "1890/1890 [==============================] - ETA: 0s - loss: 9.3542e-05 - root_mean_squared_error: 0.0097 - mean_absolute_error: 0.0048 - mean_absolute_percentage_error: 9133.4531"
     ]
    },
    {
     "name": "stderr",
     "output_type": "stream",
     "text": [
      "WARNING:absl:Found untraced functions such as _update_step_xla, lstm_cell_layer_call_fn, lstm_cell_layer_call_and_return_conditional_losses while saving (showing 3 of 3). These functions will not be directly callable after loading.\n"
     ]
    },
    {
     "name": "stdout",
     "output_type": "stream",
     "text": [
      "INFO:tensorflow:Assets written to: model1\\assets\n"
     ]
    },
    {
     "name": "stderr",
     "output_type": "stream",
     "text": [
      "INFO:tensorflow:Assets written to: model1\\assets\n"
     ]
    },
    {
     "name": "stdout",
     "output_type": "stream",
     "text": [
      "1890/1890 [==============================] - 14s 7ms/step - loss: 9.3542e-05 - root_mean_squared_error: 0.0097 - mean_absolute_error: 0.0048 - mean_absolute_percentage_error: 9133.4531 - val_loss: 4.7224e-05 - val_root_mean_squared_error: 0.0069 - val_mean_absolute_error: 0.0039 - val_mean_absolute_percentage_error: 248.4905\n",
      "Epoch 70/100\n",
      "1890/1890 [==============================] - 10s 5ms/step - loss: 9.3756e-05 - root_mean_squared_error: 0.0097 - mean_absolute_error: 0.0048 - mean_absolute_percentage_error: 9420.2842 - val_loss: 4.7673e-05 - val_root_mean_squared_error: 0.0069 - val_mean_absolute_error: 0.0039 - val_mean_absolute_percentage_error: 204.8022\n",
      "Epoch 71/100\n",
      "1890/1890 [==============================] - 10s 5ms/step - loss: 9.3502e-05 - root_mean_squared_error: 0.0097 - mean_absolute_error: 0.0048 - mean_absolute_percentage_error: 9423.6201 - val_loss: 4.7250e-05 - val_root_mean_squared_error: 0.0069 - val_mean_absolute_error: 0.0039 - val_mean_absolute_percentage_error: 133.2903\n",
      "Epoch 72/100\n",
      "1890/1890 [==============================] - 10s 5ms/step - loss: 9.3589e-05 - root_mean_squared_error: 0.0097 - mean_absolute_error: 0.0048 - mean_absolute_percentage_error: 9542.3301 - val_loss: 5.1191e-05 - val_root_mean_squared_error: 0.0072 - val_mean_absolute_error: 0.0042 - val_mean_absolute_percentage_error: 362.9341\n",
      "Epoch 73/100\n",
      "1890/1890 [==============================] - 10s 5ms/step - loss: 9.3594e-05 - root_mean_squared_error: 0.0097 - mean_absolute_error: 0.0048 - mean_absolute_percentage_error: 8943.5850 - val_loss: 5.5371e-05 - val_root_mean_squared_error: 0.0074 - val_mean_absolute_error: 0.0050 - val_mean_absolute_percentage_error: 2455.0874\n",
      "Epoch 74/100\n",
      "1890/1890 [==============================] - 10s 5ms/step - loss: 9.3857e-05 - root_mean_squared_error: 0.0097 - mean_absolute_error: 0.0048 - mean_absolute_percentage_error: 9610.3066 - val_loss: 4.8367e-05 - val_root_mean_squared_error: 0.0070 - val_mean_absolute_error: 0.0040 - val_mean_absolute_percentage_error: 310.4908\n",
      "Epoch 75/100\n",
      "1890/1890 [==============================] - 10s 5ms/step - loss: 9.3250e-05 - root_mean_squared_error: 0.0097 - mean_absolute_error: 0.0048 - mean_absolute_percentage_error: 8728.9150 - val_loss: 5.2279e-05 - val_root_mean_squared_error: 0.0072 - val_mean_absolute_error: 0.0042 - val_mean_absolute_percentage_error: 316.8548\n",
      "Epoch 76/100\n",
      "1890/1890 [==============================] - 10s 5ms/step - loss: 9.3606e-05 - root_mean_squared_error: 0.0097 - mean_absolute_error: 0.0048 - mean_absolute_percentage_error: 9236.2646 - val_loss: 4.7393e-05 - val_root_mean_squared_error: 0.0069 - val_mean_absolute_error: 0.0039 - val_mean_absolute_percentage_error: 148.4267\n",
      "Epoch 77/100\n",
      "1890/1890 [==============================] - 10s 5ms/step - loss: 9.3358e-05 - root_mean_squared_error: 0.0097 - mean_absolute_error: 0.0048 - mean_absolute_percentage_error: 8594.0684 - val_loss: 4.8299e-05 - val_root_mean_squared_error: 0.0069 - val_mean_absolute_error: 0.0040 - val_mean_absolute_percentage_error: 144.0718\n",
      "Epoch 78/100\n",
      "1890/1890 [==============================] - 10s 5ms/step - loss: 9.3333e-05 - root_mean_squared_error: 0.0097 - mean_absolute_error: 0.0048 - mean_absolute_percentage_error: 9405.3818 - val_loss: 4.8189e-05 - val_root_mean_squared_error: 0.0069 - val_mean_absolute_error: 0.0040 - val_mean_absolute_percentage_error: 551.6708\n",
      "Epoch 79/100\n",
      "1890/1890 [==============================] - 10s 5ms/step - loss: 9.3787e-05 - root_mean_squared_error: 0.0097 - mean_absolute_error: 0.0048 - mean_absolute_percentage_error: 8805.7197 - val_loss: 4.7817e-05 - val_root_mean_squared_error: 0.0069 - val_mean_absolute_error: 0.0040 - val_mean_absolute_percentage_error: 579.2769\n",
      "Epoch 80/100\n",
      "1890/1890 [==============================] - 10s 5ms/step - loss: 9.3403e-05 - root_mean_squared_error: 0.0097 - mean_absolute_error: 0.0048 - mean_absolute_percentage_error: 8906.8057 - val_loss: 4.7843e-05 - val_root_mean_squared_error: 0.0069 - val_mean_absolute_error: 0.0040 - val_mean_absolute_percentage_error: 816.3196\n",
      "Epoch 81/100\n",
      "1890/1890 [==============================] - 10s 5ms/step - loss: 9.3334e-05 - root_mean_squared_error: 0.0097 - mean_absolute_error: 0.0048 - mean_absolute_percentage_error: 8684.8232 - val_loss: 4.9266e-05 - val_root_mean_squared_error: 0.0070 - val_mean_absolute_error: 0.0043 - val_mean_absolute_percentage_error: 1424.0437\n",
      "Epoch 82/100\n",
      "1890/1890 [==============================] - 10s 5ms/step - loss: 9.3690e-05 - root_mean_squared_error: 0.0097 - mean_absolute_error: 0.0048 - mean_absolute_percentage_error: 8255.6973 - val_loss: 4.7638e-05 - val_root_mean_squared_error: 0.0069 - val_mean_absolute_error: 0.0039 - val_mean_absolute_percentage_error: 218.6707\n",
      "Epoch 83/100\n",
      "1890/1890 [==============================] - 10s 5ms/step - loss: 9.3625e-05 - root_mean_squared_error: 0.0097 - mean_absolute_error: 0.0048 - mean_absolute_percentage_error: 8687.8320 - val_loss: 4.8673e-05 - val_root_mean_squared_error: 0.0070 - val_mean_absolute_error: 0.0041 - val_mean_absolute_percentage_error: 500.8022\n",
      "Epoch 84/100\n",
      "1890/1890 [==============================] - 10s 5ms/step - loss: 9.3085e-05 - root_mean_squared_error: 0.0096 - mean_absolute_error: 0.0048 - mean_absolute_percentage_error: 8567.6504 - val_loss: 4.7321e-05 - val_root_mean_squared_error: 0.0069 - val_mean_absolute_error: 0.0039 - val_mean_absolute_percentage_error: 207.3085\n",
      "Epoch 85/100\n",
      "1890/1890 [==============================] - 10s 5ms/step - loss: 9.3592e-05 - root_mean_squared_error: 0.0097 - mean_absolute_error: 0.0048 - mean_absolute_percentage_error: 9981.1133 - val_loss: 4.9593e-05 - val_root_mean_squared_error: 0.0070 - val_mean_absolute_error: 0.0041 - val_mean_absolute_percentage_error: 320.0609\n",
      "Epoch 86/100\n",
      "1890/1890 [==============================] - 10s 5ms/step - loss: 9.3168e-05 - root_mean_squared_error: 0.0097 - mean_absolute_error: 0.0048 - mean_absolute_percentage_error: 8621.6553 - val_loss: 4.8027e-05 - val_root_mean_squared_error: 0.0069 - val_mean_absolute_error: 0.0041 - val_mean_absolute_percentage_error: 1566.0261\n",
      "Epoch 87/100\n",
      "1890/1890 [==============================] - 10s 5ms/step - loss: 9.3146e-05 - root_mean_squared_error: 0.0097 - mean_absolute_error: 0.0048 - mean_absolute_percentage_error: 8717.2168 - val_loss: 4.7573e-05 - val_root_mean_squared_error: 0.0069 - val_mean_absolute_error: 0.0039 - val_mean_absolute_percentage_error: 169.2733\n",
      "Epoch 88/100\n",
      "1890/1890 [==============================] - 11s 6ms/step - loss: 9.3441e-05 - root_mean_squared_error: 0.0097 - mean_absolute_error: 0.0048 - mean_absolute_percentage_error: 8331.3994 - val_loss: 4.7671e-05 - val_root_mean_squared_error: 0.0069 - val_mean_absolute_error: 0.0039 - val_mean_absolute_percentage_error: 135.8405\n",
      "Epoch 89/100\n",
      "1890/1890 [==============================] - 10s 5ms/step - loss: 9.3479e-05 - root_mean_squared_error: 0.0097 - mean_absolute_error: 0.0048 - mean_absolute_percentage_error: 8540.0410 - val_loss: 4.7916e-05 - val_root_mean_squared_error: 0.0069 - val_mean_absolute_error: 0.0040 - val_mean_absolute_percentage_error: 625.0950\n",
      "Epoch 90/100\n",
      "1890/1890 [==============================] - 10s 5ms/step - loss: 9.3296e-05 - root_mean_squared_error: 0.0097 - mean_absolute_error: 0.0048 - mean_absolute_percentage_error: 8152.7393 - val_loss: 4.7974e-05 - val_root_mean_squared_error: 0.0069 - val_mean_absolute_error: 0.0040 - val_mean_absolute_percentage_error: 713.8932\n",
      "Epoch 91/100\n",
      "1890/1890 [==============================] - 10s 6ms/step - loss: 9.3475e-05 - root_mean_squared_error: 0.0097 - mean_absolute_error: 0.0048 - mean_absolute_percentage_error: 8826.4678 - val_loss: 4.7541e-05 - val_root_mean_squared_error: 0.0069 - val_mean_absolute_error: 0.0039 - val_mean_absolute_percentage_error: 364.9334\n",
      "Epoch 92/100\n",
      "1890/1890 [==============================] - 11s 6ms/step - loss: 9.3377e-05 - root_mean_squared_error: 0.0097 - mean_absolute_error: 0.0048 - mean_absolute_percentage_error: 8781.7773 - val_loss: 5.4194e-05 - val_root_mean_squared_error: 0.0074 - val_mean_absolute_error: 0.0048 - val_mean_absolute_percentage_error: 2372.6296\n",
      "Epoch 93/100\n",
      "1890/1890 [==============================] - 11s 6ms/step - loss: 9.3182e-05 - root_mean_squared_error: 0.0097 - mean_absolute_error: 0.0048 - mean_absolute_percentage_error: 9122.8984 - val_loss: 4.8144e-05 - val_root_mean_squared_error: 0.0069 - val_mean_absolute_error: 0.0040 - val_mean_absolute_percentage_error: 439.9424\n",
      "Epoch 94/100\n",
      "1890/1890 [==============================] - 10s 6ms/step - loss: 9.3188e-05 - root_mean_squared_error: 0.0097 - mean_absolute_error: 0.0048 - mean_absolute_percentage_error: 8445.4053 - val_loss: 4.8258e-05 - val_root_mean_squared_error: 0.0069 - val_mean_absolute_error: 0.0041 - val_mean_absolute_percentage_error: 1024.2620\n",
      "Epoch 95/100\n",
      "1890/1890 [==============================] - 10s 5ms/step - loss: 9.3058e-05 - root_mean_squared_error: 0.0096 - mean_absolute_error: 0.0048 - mean_absolute_percentage_error: 8064.4155 - val_loss: 4.9689e-05 - val_root_mean_squared_error: 0.0070 - val_mean_absolute_error: 0.0042 - val_mean_absolute_percentage_error: 1035.8163\n",
      "Epoch 96/100\n",
      "1890/1890 [==============================] - 10s 5ms/step - loss: 9.3298e-05 - root_mean_squared_error: 0.0097 - mean_absolute_error: 0.0048 - mean_absolute_percentage_error: 8566.2441 - val_loss: 4.9058e-05 - val_root_mean_squared_error: 0.0070 - val_mean_absolute_error: 0.0041 - val_mean_absolute_percentage_error: 650.1255\n",
      "Epoch 97/100\n",
      "1890/1890 [==============================] - 10s 5ms/step - loss: 9.2968e-05 - root_mean_squared_error: 0.0096 - mean_absolute_error: 0.0048 - mean_absolute_percentage_error: 8910.3789 - val_loss: 4.7257e-05 - val_root_mean_squared_error: 0.0069 - val_mean_absolute_error: 0.0039 - val_mean_absolute_percentage_error: 258.3288\n",
      "Epoch 98/100\n",
      "1890/1890 [==============================] - 10s 5ms/step - loss: 9.3147e-05 - root_mean_squared_error: 0.0097 - mean_absolute_error: 0.0048 - mean_absolute_percentage_error: 8335.8623 - val_loss: 4.9061e-05 - val_root_mean_squared_error: 0.0070 - val_mean_absolute_error: 0.0040 - val_mean_absolute_percentage_error: 235.0439\n",
      "Epoch 99/100\n",
      "1890/1890 [==============================] - 9s 5ms/step - loss: 9.2806e-05 - root_mean_squared_error: 0.0096 - mean_absolute_error: 0.0048 - mean_absolute_percentage_error: 9037.0645 - val_loss: 4.7546e-05 - val_root_mean_squared_error: 0.0069 - val_mean_absolute_error: 0.0040 - val_mean_absolute_percentage_error: 590.6448\n",
      "Epoch 100/100\n",
      "1890/1890 [==============================] - 10s 5ms/step - loss: 9.3107e-05 - root_mean_squared_error: 0.0096 - mean_absolute_error: 0.0048 - mean_absolute_percentage_error: 8217.3369 - val_loss: 4.7557e-05 - val_root_mean_squared_error: 0.0069 - val_mean_absolute_error: 0.0039 - val_mean_absolute_percentage_error: 786.5746\n"
     ]
    }
   ],
   "source": [
    "history = model1.fit(X_train1_normalized, y_train1_normalized, validation_data=(X_val1_normalized, y_val1_normalized), epochs=100, callbacks=[cp1])\n"
   ]
  },
  {
   "cell_type": "code",
   "execution_count": 17,
   "id": "998fcd1a",
   "metadata": {},
   "outputs": [
    {
     "data": {
      "image/png": "[encoded data removed]",
      "text/plain": [
       "<Figure size 640x480 with 1 Axes>"
      ]
     },
     "metadata": {},
     "output_type": "display_data"
    }
   ],
   "source": [
    "import matplotlib.pyplot as plt\n",
    "\n",
    "\n",
    "loss = history.history['loss']\n",
    "val_loss = history.history['val_loss']\n",
    "\n",
    "# Create an array of epoch numbers\n",
    "epochs = range(1, len(loss) + 1)\n",
    "\n",
    "# Plot the training and validation loss\n",
    "plt.plot(epochs, loss, 'bo', label='Training Loss')\n",
    "plt.plot(epochs, val_loss, 'b', label='Validation Loss')\n",
    "plt.title('Training and Validation Loss')\n",
    "plt.xlabel('Epochs')\n",
    "plt.ylabel('Loss')\n",
    "plt.legend()\n",
    "plt.show()"
   ]
  },
  {
   "cell_type": "code",
   "execution_count": 18,
   "id": "4df16f9a",
   "metadata": {},
   "outputs": [
    {
     "name": "stdout",
     "output_type": "stream",
     "text": [
      "405/405 [==============================] - 1s 2ms/step - loss: 4.7557e-05 - root_mean_squared_error: 0.0069 - mean_absolute_error: 0.0039 - mean_absolute_percentage_error: 786.5746\n"
     ]
    }
   ],
   "source": [
    "validation_results = model1.evaluate(X_val1_normalized, y_val1_normalized)\n"
   ]
  },
  {
   "cell_type": "code",
   "execution_count": null,
   "id": "688c66ac",
   "metadata": {},
   "outputs": [],
   "source": []
  },
  {
   "cell_type": "code",
   "execution_count": 19,
   "id": "d63aff71",
   "metadata": {},
   "outputs": [
    {
     "name": "stdout",
     "output_type": "stream",
     "text": [
      "Model: \"sequential_2\"\n",
      "_________________________________________________________________\n",
      " Layer (type)                Output Shape              Param #   \n",
      "=================================================================\n",
      " lstm_2 (LSTM)               (None, 12, 64)            16896     \n",
      "                                                                 \n",
      " lstm_3 (LSTM)               (None, 32)                12416     \n",
      "                                                                 \n",
      " dense_2 (Dense)             (None, 8)                 264       \n",
      "                                                                 \n",
      " dense_3 (Dense)             (None, 1)                 9         \n",
      "                                                                 \n",
      "=================================================================\n",
      "Total params: 29,585\n",
      "Trainable params: 29,585\n",
      "Non-trainable params: 0\n",
      "_________________________________________________________________\n"
     ]
    }
   ],
   "source": [
    "from tensorflow.keras.models import Sequential\n",
    "from tensorflow.keras.layers import *\n",
    "from tensorflow.keras.callbacks import ModelCheckpoint\n",
    "from tensorflow.keras.losses import MeanSquaredError, MeanAbsoluteError\n",
    "from tensorflow.keras.metrics import RootMeanSquaredError, MeanAbsolutePercentageError\n",
    "from tensorflow.keras.optimizers import Adam\n",
    "\n",
    "model2 = Sequential()\n",
    "model2.add(InputLayer((X1.shape[1],1)))\n",
    "model2.add(LSTM(64, return_sequences=True)) \n",
    "model2.add(LSTM(32))\n",
    "model2.add(Dense(8, 'relu'))\n",
    "model2.add(Dense(1, 'linear'))\n",
    "\n",
    "model2.summary()"
   ]
  },
  {
   "cell_type": "code",
   "execution_count": 22,
   "id": "6311acbf",
   "metadata": {},
   "outputs": [
    {
     "name": "stdout",
     "output_type": "stream",
     "text": [
      "Epoch 1/20\n",
      "1890/1890 [==============================] - 19s 8ms/step - loss: 938796.4375 - root_mean_squared_error: 968.9151 - mean_absolute_error: 639.5883 - mean_absolute_percentage_error: 10937656.0000 - val_loss: 709577.5000 - val_root_mean_squared_error: 842.3643 - val_mean_absolute_error: 520.1095 - val_mean_absolute_percentage_error: 1280189.6250\n",
      "Epoch 2/20\n",
      "1890/1890 [==============================] - 15s 8ms/step - loss: 871427.5625 - root_mean_squared_error: 933.5029 - mean_absolute_error: 604.3412 - mean_absolute_percentage_error: 12460599.0000 - val_loss: 651201.1250 - val_root_mean_squared_error: 806.9703 - val_mean_absolute_error: 487.7183 - val_mean_absolute_percentage_error: 1378831.2500\n",
      "Epoch 3/20\n",
      "1890/1890 [==============================] - 15s 8ms/step - loss: 799718.5000 - root_mean_squared_error: 894.2698 - mean_absolute_error: 566.8983 - mean_absolute_percentage_error: 13764373.0000 - val_loss: 590529.6250 - val_root_mean_squared_error: 768.4592 - val_mean_absolute_error: 454.1541 - val_mean_absolute_percentage_error: 1391970.0000\n",
      "Epoch 4/20\n",
      "1890/1890 [==============================] - 15s 8ms/step - loss: 725685.1250 - root_mean_squared_error: 851.8715 - mean_absolute_error: 528.1960 - mean_absolute_percentage_error: 15323234.0000 - val_loss: 528792.5000 - val_root_mean_squared_error: 727.1812 - val_mean_absolute_error: 419.6725 - val_mean_absolute_percentage_error: 1446595.7500\n",
      "Epoch 5/20\n",
      "1890/1890 [==============================] - 15s 8ms/step - loss: 650658.6250 - root_mean_squared_error: 806.6342 - mean_absolute_error: 488.4444 - mean_absolute_percentage_error: 16649642.0000 - val_loss: 467070.4688 - val_root_mean_squared_error: 683.4255 - val_mean_absolute_error: 386.2268 - val_mean_absolute_percentage_error: 1317753.0000\n",
      "Epoch 6/20\n",
      "1890/1890 [==============================] - 15s 8ms/step - loss: 576158.5625 - root_mean_squared_error: 759.0511 - mean_absolute_error: 448.0682 - mean_absolute_percentage_error: 17862206.0000 - val_loss: 406787.2812 - val_root_mean_squared_error: 637.7988 - val_mean_absolute_error: 350.1580 - val_mean_absolute_percentage_error: 1237910.3750\n",
      "Epoch 7/20\n",
      "1890/1890 [==============================] - 15s 8ms/step - loss: 503530.5312 - root_mean_squared_error: 709.5989 - mean_absolute_error: 407.7883 - mean_absolute_percentage_error: 19048964.0000 - val_loss: 348626.5938 - val_root_mean_squared_error: 590.4461 - val_mean_absolute_error: 315.2079 - val_mean_absolute_percentage_error: 1837096.2500\n",
      "Epoch 8/20\n",
      "1890/1890 [==============================] - 15s 8ms/step - loss: 433561.2500 - root_mean_squared_error: 658.4537 - mean_absolute_error: 367.7617 - mean_absolute_percentage_error: 20271786.0000 - val_loss: 293427.7500 - val_root_mean_squared_error: 541.6897 - val_mean_absolute_error: 280.8769 - val_mean_absolute_percentage_error: 1391633.8750\n",
      "Epoch 9/20\n",
      "1890/1890 [==============================] - 15s 8ms/step - loss: 367380.7500 - root_mean_squared_error: 606.1194 - mean_absolute_error: 328.2848 - mean_absolute_percentage_error: 21774588.0000 - val_loss: 242196.2031 - val_root_mean_squared_error: 492.1343 - val_mean_absolute_error: 247.7833 - val_mean_absolute_percentage_error: 1985882.2500\n",
      "Epoch 10/20\n",
      "1890/1890 [==============================] - 15s 8ms/step - loss: 305757.8750 - root_mean_squared_error: 552.9538 - mean_absolute_error: 289.9064 - mean_absolute_percentage_error: 23054364.0000 - val_loss: 195387.1719 - val_root_mean_squared_error: 442.0262 - val_mean_absolute_error: 214.6127 - val_mean_absolute_percentage_error: 1591646.5000\n",
      "Epoch 11/20\n",
      "1890/1890 [==============================] - 15s 8ms/step - loss: 249459.0625 - root_mean_squared_error: 499.4588 - mean_absolute_error: 252.8452 - mean_absolute_percentage_error: 24615578.0000 - val_loss: 153716.9375 - val_root_mean_squared_error: 392.0675 - val_mean_absolute_error: 182.7221 - val_mean_absolute_percentage_error: 1615293.7500\n",
      "Epoch 12/20\n",
      "1890/1890 [==============================] - 15s 8ms/step - loss: 198993.6562 - root_mean_squared_error: 446.0870 - mean_absolute_error: 217.8513 - mean_absolute_percentage_error: 25586966.0000 - val_loss: 117361.1328 - val_root_mean_squared_error: 342.5801 - val_mean_absolute_error: 153.3808 - val_mean_absolute_percentage_error: 2128147.5000\n",
      "Epoch 13/20\n",
      "1890/1890 [==============================] - 15s 8ms/step - loss: 154679.9219 - root_mean_squared_error: 393.2937 - mean_absolute_error: 185.0336 - mean_absolute_percentage_error: 27203446.0000 - val_loss: 86629.6641 - val_root_mean_squared_error: 294.3292 - val_mean_absolute_error: 126.4435 - val_mean_absolute_percentage_error: 1936631.6250\n",
      "Epoch 14/20\n",
      "1890/1890 [==============================] - 15s 8ms/step - loss: 116634.2422 - root_mean_squared_error: 341.5175 - mean_absolute_error: 154.6264 - mean_absolute_percentage_error: 28553096.0000 - val_loss: 61251.0977 - val_root_mean_squared_error: 247.4896 - val_mean_absolute_error: 101.3191 - val_mean_absolute_percentage_error: 1993385.0000\n",
      "Epoch 15/20\n",
      "1890/1890 [==============================] - 15s 8ms/step - loss: 84965.0234 - root_mean_squared_error: 291.4876 - mean_absolute_error: 126.3989 - mean_absolute_percentage_error: 29963662.0000 - val_loss: 41298.5898 - val_root_mean_squared_error: 203.2206 - val_mean_absolute_error: 79.0490 - val_mean_absolute_percentage_error: 2081423.3750\n",
      "Epoch 16/20\n",
      "1890/1890 [==============================] - 15s 8ms/step - loss: 59605.7773 - root_mean_squared_error: 244.1429 - mean_absolute_error: 101.6517 - mean_absolute_percentage_error: 31353952.0000 - val_loss: 26340.3906 - val_root_mean_squared_error: 162.2972 - val_mean_absolute_error: 60.4239 - val_mean_absolute_percentage_error: 2187875.7500\n",
      "Epoch 17/20\n",
      "1890/1890 [==============================] - 15s 8ms/step - loss: 39916.4336 - root_mean_squared_error: 199.7910 - mean_absolute_error: 80.3629 - mean_absolute_percentage_error: 32815946.0000 - val_loss: 15771.7734 - val_root_mean_squared_error: 125.5857 - val_mean_absolute_error: 45.8921 - val_mean_absolute_percentage_error: 2174076.7500\n",
      "Epoch 18/20\n",
      "1890/1890 [==============================] - 15s 8ms/step - loss: 25271.4102 - root_mean_squared_error: 158.9698 - mean_absolute_error: 62.3483 - mean_absolute_percentage_error: 34156676.0000 - val_loss: 8699.6982 - val_root_mean_squared_error: 93.2722 - val_mean_absolute_error: 32.6168 - val_mean_absolute_percentage_error: 2274300.7500\n",
      "Epoch 19/20\n",
      "1890/1890 [==============================] - 15s 8ms/step - loss: 15000.9756 - root_mean_squared_error: 122.4785 - mean_absolute_error: 47.4099 - mean_absolute_percentage_error: 35384380.0000 - val_loss: 4596.2305 - val_root_mean_squared_error: 67.7955 - val_mean_absolute_error: 26.9006 - val_mean_absolute_percentage_error: 2339652.2500\n",
      "Epoch 20/20\n",
      "1890/1890 [==============================] - 16s 8ms/step - loss: 8282.5869 - root_mean_squared_error: 91.0087 - mean_absolute_error: 35.8461 - mean_absolute_percentage_error: 36469516.0000 - val_loss: 2089.7183 - val_root_mean_squared_error: 45.7134 - val_mean_absolute_error: 19.4007 - val_mean_absolute_percentage_error: 2595104.0000\n"
     ]
    }
   ],
   "source": [
    "model2.compile(\n",
    "    loss=MeanSquaredError(),\n",
    "    optimizer=Adam(learning_rate=0.0001),\n",
    "    metrics=[RootMeanSquaredError(), MeanAbsoluteError(), MeanAbsolutePercentageError()]\n",
    ")\n",
    "history = model2.fit(X_train1, y_train1, validation_data=(X_val1, y_val1), epochs=20)"
   ]
  },
  {
   "cell_type": "code",
   "execution_count": 23,
   "id": "450af576",
   "metadata": {},
   "outputs": [
    {
     "data": {
      "image/png": "[encoded data removed]",
      "text/plain": [
       "<Figure size 640x480 with 1 Axes>"
      ]
     },
     "metadata": {},
     "output_type": "display_data"
    }
   ],
   "source": [
    "import matplotlib.pyplot as plt\n",
    "\n",
    "\n",
    "loss = history.history['loss']\n",
    "val_loss = history.history['val_loss']\n",
    "\n",
    "# Create an array of epoch numbers\n",
    "epochs = range(1, len(loss) + 1)\n",
    "\n",
    "# Plot the training and validation loss\n",
    "plt.plot(epochs, loss, 'bo', label='Training Loss')\n",
    "plt.plot(epochs, val_loss, 'b', label='Validation Loss')\n",
    "plt.title('Training and Validation Loss')\n",
    "plt.xlabel('Epochs')\n",
    "plt.ylabel('Loss')\n",
    "plt.legend()\n",
    "plt.show()"
   ]
  },
  {
   "cell_type": "code",
   "execution_count": 26,
   "id": "5797de88",
   "metadata": {},
   "outputs": [
    {
     "name": "stdout",
     "output_type": "stream",
     "text": [
      "Model: \"sequential_4\"\n",
      "_________________________________________________________________\n",
      " Layer (type)                Output Shape              Param #   \n",
      "=================================================================\n",
      " conv1d_2 (Conv1D)           (None, 11, 64)            192       \n",
      "                                                                 \n",
      " lstm_5 (LSTM)               (None, 11, 64)            33024     \n",
      "                                                                 \n",
      " flatten_2 (Flatten)         (None, 704)               0         \n",
      "                                                                 \n",
      " dense_6 (Dense)             (None, 8)                 5640      \n",
      "                                                                 \n",
      " dense_7 (Dense)             (None, 1)                 9         \n",
      "                                                                 \n",
      "=================================================================\n",
      "Total params: 38,865\n",
      "Trainable params: 38,865\n",
      "Non-trainable params: 0\n",
      "_________________________________________________________________\n"
     ]
    }
   ],
   "source": [
    "from tensorflow.keras.models import Sequential\n",
    "from tensorflow.keras.layers import Conv1D, Flatten, Dense, LSTM\n",
    "\n",
    "model3 = Sequential()\n",
    "model3.add(Conv1D(64, kernel_size=2, input_shape=(X1.shape[1],1)))  # Specify input shape here\n",
    "model3.add(LSTM(64, return_sequences=True))  # Add LSTM layer with return_sequences=True\n",
    "model3.add(Flatten())\n",
    "model3.add(Dense(8, activation='relu'))  # Use 'activation' instead of just the activation function name\n",
    "model3.add(Dense(1, activation='linear'))  # Use 'activation' instead of just the activation function name\n",
    "\n",
    "model3.summary()\n"
   ]
  },
  {
   "cell_type": "code",
   "execution_count": null,
   "id": "589e6a11",
   "metadata": {},
   "outputs": [
    {
     "name": "stdout",
     "output_type": "stream",
     "text": [
      "Epoch 1/20\n",
      "1890/1890 [==============================] - 12s 5ms/step - loss: 940823.6250 - root_mean_squared_error: 969.9606 - mean_absolute_error: 643.7150 - mean_absolute_percentage_error: 8293620.0000 - val_loss: 515642.3750 - val_root_mean_squared_error: 718.0825 - val_mean_absolute_error: 417.7435 - val_mean_absolute_percentage_error: 3966103.0000\n",
      "Epoch 2/20\n",
      "1890/1890 [==============================] - 9s 5ms/step - loss: 444012.1562 - root_mean_squared_error: 666.3423 - mean_absolute_error: 378.5689 - mean_absolute_percentage_error: 7343455.5000 - val_loss: 180276.7344 - val_root_mean_squared_error: 424.5901 - val_mean_absolute_error: 213.7864 - val_mean_absolute_percentage_error: 1390514.2500\n",
      "Epoch 3/20\n",
      "1890/1890 [==============================] - 9s 5ms/step - loss: 149271.3750 - root_mean_squared_error: 386.3565 - mean_absolute_error: 189.5659 - mean_absolute_percentage_error: 9597720.0000 - val_loss: 51939.8672 - val_root_mean_squared_error: 227.9032 - val_mean_absolute_error: 101.7606 - val_mean_absolute_percentage_error: 2110576.5000\n",
      "Epoch 4/20\n",
      "1890/1890 [==============================] - 9s 5ms/step - loss: 41127.4180 - root_mean_squared_error: 202.7990 - mean_absolute_error: 93.1993 - mean_absolute_percentage_error: 9533805.0000 - val_loss: 8238.8066 - val_root_mean_squared_error: 90.7679 - val_mean_absolute_error: 47.7629 - val_mean_absolute_percentage_error: 1774493.0000\n",
      "Epoch 5/20\n",
      "1890/1890 [==============================] - 9s 5ms/step - loss: 9847.1367 - root_mean_squared_error: 99.2327 - mean_absolute_error: 49.4062 - mean_absolute_percentage_error: 9720333.0000 - val_loss: 2021.3857 - val_root_mean_squared_error: 44.9598 - val_mean_absolute_error: 24.8523 - val_mean_absolute_percentage_error: 2089896.6250\n",
      "Epoch 6/20\n",
      "1890/1890 [==============================] - 9s 5ms/step - loss: 4863.2056 - root_mean_squared_error: 69.7367 - mean_absolute_error: 37.4698 - mean_absolute_percentage_error: 9358132.0000 - val_loss: 922.9738 - val_root_mean_squared_error: 30.3805 - val_mean_absolute_error: 17.7772 - val_mean_absolute_percentage_error: 2239554.7500\n",
      "Epoch 7/20\n",
      "1890/1890 [==============================] - 9s 5ms/step - loss: 2971.8914 - root_mean_squared_error: 54.5151 - mean_absolute_error: 30.4993 - mean_absolute_percentage_error: 9948390.0000 - val_loss: 950.1363 - val_root_mean_squared_error: 30.8243 - val_mean_absolute_error: 19.5526 - val_mean_absolute_percentage_error: 3048605.5000\n",
      "Epoch 8/20\n",
      "1890/1890 [==============================] - 9s 5ms/step - loss: 2697.3132 - root_mean_squared_error: 51.9357 - mean_absolute_error: 29.6111 - mean_absolute_percentage_error: 10185759.0000 - val_loss: 674.7939 - val_root_mean_squared_error: 25.9768 - val_mean_absolute_error: 15.7905 - val_mean_absolute_percentage_error: 2792684.2500\n",
      "Epoch 9/20\n",
      "1890/1890 [==============================] - 9s 5ms/step - loss: 3058.5940 - root_mean_squared_error: 55.3046 - mean_absolute_error: 30.7368 - mean_absolute_percentage_error: 10924143.0000 - val_loss: 1237.1663 - val_root_mean_squared_error: 35.1734 - val_mean_absolute_error: 22.1424 - val_mean_absolute_percentage_error: 2206273.5000\n",
      "Epoch 10/20\n",
      "1890/1890 [==============================] - 9s 5ms/step - loss: 2764.9617 - root_mean_squared_error: 52.5829 - mean_absolute_error: 29.2335 - mean_absolute_percentage_error: 12303917.0000 - val_loss: 1082.6113 - val_root_mean_squared_error: 32.9031 - val_mean_absolute_error: 21.1469 - val_mean_absolute_percentage_error: 3546240.7500\n",
      "Epoch 11/20\n",
      "1890/1890 [==============================] - 9s 5ms/step - loss: 2205.5481 - root_mean_squared_error: 46.9633 - mean_absolute_error: 26.8142 - mean_absolute_percentage_error: 11687963.0000 - val_loss: 2046.2498 - val_root_mean_squared_error: 45.2355 - val_mean_absolute_error: 28.6061 - val_mean_absolute_percentage_error: 2577619.2500\n",
      "Epoch 12/20\n",
      "1890/1890 [==============================] - 9s 5ms/step - loss: 2284.2397 - root_mean_squared_error: 47.7937 - mean_absolute_error: 27.4948 - mean_absolute_percentage_error: 12133330.0000 - val_loss: 1922.2179 - val_root_mean_squared_error: 43.8431 - val_mean_absolute_error: 29.2405 - val_mean_absolute_percentage_error: 3591642.2500\n",
      "Epoch 13/20\n",
      "1890/1890 [==============================] - 10s 5ms/step - loss: 2014.0076 - root_mean_squared_error: 44.8777 - mean_absolute_error: 25.4371 - mean_absolute_percentage_error: 12100015.0000 - val_loss: 757.4045 - val_root_mean_squared_error: 27.5210 - val_mean_absolute_error: 16.8554 - val_mean_absolute_percentage_error: 2435814.7500\n",
      "Epoch 14/20\n",
      "1890/1890 [==============================] - 9s 5ms/step - loss: 2174.0520 - root_mean_squared_error: 46.6267 - mean_absolute_error: 26.6673 - mean_absolute_percentage_error: 11899839.0000 - val_loss: 657.6914 - val_root_mean_squared_error: 25.6455 - val_mean_absolute_error: 15.5261 - val_mean_absolute_percentage_error: 2441173.7500\n",
      "Epoch 15/20\n",
      "1890/1890 [==============================] - 9s 5ms/step - loss: 2134.9119 - root_mean_squared_error: 46.2051 - mean_absolute_error: 26.3166 - mean_absolute_percentage_error: 12612413.0000 - val_loss: 3111.8889 - val_root_mean_squared_error: 55.7843 - val_mean_absolute_error: 36.1336 - val_mean_absolute_percentage_error: 3105034.5000\n",
      "Epoch 16/20\n"
     ]
    }
   ],
   "source": [
    "model3.compile(\n",
    "    loss=MeanSquaredError(),\n",
    "    optimizer=Adam(learning_rate=0.0001),\n",
    "    metrics=[RootMeanSquaredError(), MeanAbsoluteError(), MeanAbsolutePercentageError()]\n",
    ")\n",
    "history = model3.fit(X_train1, y_train1, validation_data=(X_val1, y_val1), epochs=20)"
   ]
  },
  {
   "cell_type": "code",
   "execution_count": null,
   "id": "98ed2829",
   "metadata": {},
   "outputs": [],
   "source": [
    "import matplotlib.pyplot as plt\n",
    "\n",
    "\n",
    "loss = history.history['loss']\n",
    "val_loss = history.history['val_loss']\n",
    "\n",
    "# Create an array of epoch numbers\n",
    "epochs = range(1, len(loss) + 1)\n",
    "\n",
    "# Plot the training and validation loss\n",
    "plt.plot(epochs, loss, 'bo', label='Training Loss')\n",
    "plt.plot(epochs, val_loss, 'b', label='Validation Loss')\n",
    "plt.title('Training and Validation Loss')\n",
    "plt.xlabel('Epochs')\n",
    "plt.ylabel('Loss')\n",
    "plt.legend()\n",
    "plt.show()"
   ]
  },
  {
   "cell_type": "code",
   "execution_count": null,
   "id": "a6c22c59",
   "metadata": {},
   "outputs": [],
   "source": []
  }
 ],
 "metadata": {
  "kernelspec": {
   "display_name": "Python 3 (ipykernel)",
   "language": "python",
   "name": "python3"
  },
  "language_info": {
   "codemirror_mode": {
    "name": "ipython",
    "version": 3
   },
   "file_extension": ".py",
   "mimetype": "text/x-python",
   "name": "python",
   "nbconvert_exporter": "python",
   "pygments_lexer": "ipython3",
   "version": "3.10.0"
  }
 },
 "nbformat": 4,
 "nbformat_minor": 5
}
