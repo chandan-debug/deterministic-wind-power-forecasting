{
 "cells": [
  {
   "cell_type": "code",
   "execution_count": 30,
   "id": "fe93fc56",
   "metadata": {},
   "outputs": [],
   "source": [
    "import numpy as np\n",
    "import pandas as pd\n",
    "import matplotlib.pyplot as plt\n",
    "from sklearn.model_selection import train_test_split\n",
    "from sklearn.preprocessing import MinMaxScaler\n",
    "from tensorflow.keras.models import Sequential\n",
    "from tensorflow.keras.layers import LSTM, Dense\n"
   ]
  },
  {
   "cell_type": "code",
   "execution_count": 2,
   "id": "b7ebf209",
   "metadata": {},
   "outputs": [
    {
     "data": {
      "text/html": [
       "<div>\n",
       "<style scoped>\n",
       "    .dataframe tbody tr th:only-of-type {\n",
       "        vertical-align: middle;\n",
       "    }\n",
       "\n",
       "    .dataframe tbody tr th {\n",
       "        vertical-align: top;\n",
       "    }\n",
       "\n",
       "    .dataframe thead th {\n",
       "        text-align: right;\n",
       "    }\n",
       "</style>\n",
       "<table border=\"1\" class=\"dataframe\">\n",
       "  <thead>\n",
       "    <tr style=\"text-align: right;\">\n",
       "      <th></th>\n",
       "      <th>Date/Time</th>\n",
       "      <th>Date/Time (UTC)</th>\n",
       "      <th>TOTAL WIND BASE SCHEDULE (FORECAST) IN BPA CONTROL AREA (MW; SCADA 187517</th>\n",
       "      <th>TOTAL WIND BASEPOINT (FORECAST) IN BPA CONTROL AREA (MW; SCADA 103349</th>\n",
       "      <th>TOTAL WIND GENERATION  IN BPA CONTROL AREA (MW; SCADA 79687)</th>\n",
       "      <th>TOTAL BPA CONTROL AREA LOAD (MW; SCADA 45583)</th>\n",
       "      <th>TOTAL HYDRO GENERATION (MW; SCADA 79682)</th>\n",
       "      <th>TOTAL FOSSIL/BIOMASS GENERATION (MW; SCADA 164377)</th>\n",
       "      <th>TOTAL NUCLEAR GENERATION (MW; 70681)</th>\n",
       "      <th>NET INTERCHANGE (MW; SCADA 45581)</th>\n",
       "      <th>TOTAL SOLAR BASE SCHEDULE (FORECAST) IN BPA CONTROL AREA (MW; SCADA 187513)</th>\n",
       "      <th>TOTAL SOLAR Basepoint (FORECAST) IN BPA CONTROL AREA (MW; SCADA 177165)</th>\n",
       "      <th>TOTAL SOLAR GENERATION  IN BPA CONTROL AREA (MW; SCADA 142383)</th>\n",
       "    </tr>\n",
       "  </thead>\n",
       "  <tbody>\n",
       "    <tr>\n",
       "      <th>0</th>\n",
       "      <td>01-01-2022 00:00</td>\n",
       "      <td>01-01-2022 08:00</td>\n",
       "      <td>NaN</td>\n",
       "      <td>27.0</td>\n",
       "      <td>5.0</td>\n",
       "      <td>8320.0</td>\n",
       "      <td>10817.0</td>\n",
       "      <td>1096.0</td>\n",
       "      <td>1159.0</td>\n",
       "      <td>4757.0</td>\n",
       "      <td>NaN</td>\n",
       "      <td>0.0</td>\n",
       "      <td>0.0</td>\n",
       "    </tr>\n",
       "    <tr>\n",
       "      <th>1</th>\n",
       "      <td>01-01-2022 00:05</td>\n",
       "      <td>01-01-2022 08:05</td>\n",
       "      <td>NaN</td>\n",
       "      <td>24.0</td>\n",
       "      <td>5.0</td>\n",
       "      <td>8338.0</td>\n",
       "      <td>10960.0</td>\n",
       "      <td>1079.0</td>\n",
       "      <td>1165.0</td>\n",
       "      <td>4872.0</td>\n",
       "      <td>NaN</td>\n",
       "      <td>0.0</td>\n",
       "      <td>0.0</td>\n",
       "    </tr>\n",
       "    <tr>\n",
       "      <th>2</th>\n",
       "      <td>01-01-2022 00:10</td>\n",
       "      <td>01-01-2022 08:10</td>\n",
       "      <td>NaN</td>\n",
       "      <td>21.0</td>\n",
       "      <td>5.0</td>\n",
       "      <td>8337.0</td>\n",
       "      <td>11036.0</td>\n",
       "      <td>1056.0</td>\n",
       "      <td>1164.0</td>\n",
       "      <td>4925.0</td>\n",
       "      <td>NaN</td>\n",
       "      <td>0.0</td>\n",
       "      <td>0.0</td>\n",
       "    </tr>\n",
       "    <tr>\n",
       "      <th>3</th>\n",
       "      <td>01-01-2022 00:15</td>\n",
       "      <td>01-01-2022 08:15</td>\n",
       "      <td>NaN</td>\n",
       "      <td>21.0</td>\n",
       "      <td>6.0</td>\n",
       "      <td>8342.0</td>\n",
       "      <td>11084.0</td>\n",
       "      <td>1037.0</td>\n",
       "      <td>1165.0</td>\n",
       "      <td>4950.0</td>\n",
       "      <td>NaN</td>\n",
       "      <td>0.0</td>\n",
       "      <td>0.0</td>\n",
       "    </tr>\n",
       "    <tr>\n",
       "      <th>4</th>\n",
       "      <td>01-01-2022 00:20</td>\n",
       "      <td>01-01-2022 08:20</td>\n",
       "      <td>NaN</td>\n",
       "      <td>21.0</td>\n",
       "      <td>6.0</td>\n",
       "      <td>8354.0</td>\n",
       "      <td>11085.0</td>\n",
       "      <td>1032.0</td>\n",
       "      <td>1161.0</td>\n",
       "      <td>4930.0</td>\n",
       "      <td>NaN</td>\n",
       "      <td>0.0</td>\n",
       "      <td>0.0</td>\n",
       "    </tr>\n",
       "  </tbody>\n",
       "</table>\n",
       "</div>"
      ],
      "text/plain": [
       "          Date/Time   Date/Time (UTC)   \n",
       "0  01-01-2022 00:00  01-01-2022 08:00  \\\n",
       "1  01-01-2022 00:05  01-01-2022 08:05   \n",
       "2  01-01-2022 00:10  01-01-2022 08:10   \n",
       "3  01-01-2022 00:15  01-01-2022 08:15   \n",
       "4  01-01-2022 00:20  01-01-2022 08:20   \n",
       "\n",
       "   TOTAL WIND BASE SCHEDULE (FORECAST) IN BPA CONTROL AREA (MW; SCADA 187517   \n",
       "0                                                NaN                          \\\n",
       "1                                                NaN                           \n",
       "2                                                NaN                           \n",
       "3                                                NaN                           \n",
       "4                                                NaN                           \n",
       "\n",
       "   TOTAL WIND BASEPOINT (FORECAST) IN BPA CONTROL AREA (MW; SCADA 103349   \n",
       "0                                               27.0                      \\\n",
       "1                                               24.0                       \n",
       "2                                               21.0                       \n",
       "3                                               21.0                       \n",
       "4                                               21.0                       \n",
       "\n",
       "   TOTAL WIND GENERATION  IN BPA CONTROL AREA (MW; SCADA 79687)   \n",
       "0                                                5.0             \\\n",
       "1                                                5.0              \n",
       "2                                                5.0              \n",
       "3                                                6.0              \n",
       "4                                                6.0              \n",
       "\n",
       "   TOTAL BPA CONTROL AREA LOAD (MW; SCADA 45583)   \n",
       "0                                         8320.0  \\\n",
       "1                                         8338.0   \n",
       "2                                         8337.0   \n",
       "3                                         8342.0   \n",
       "4                                         8354.0   \n",
       "\n",
       "   TOTAL HYDRO GENERATION (MW; SCADA 79682)   \n",
       "0                                   10817.0  \\\n",
       "1                                   10960.0   \n",
       "2                                   11036.0   \n",
       "3                                   11084.0   \n",
       "4                                   11085.0   \n",
       "\n",
       "   TOTAL FOSSIL/BIOMASS GENERATION (MW; SCADA 164377)   \n",
       "0                                             1096.0   \\\n",
       "1                                             1079.0    \n",
       "2                                             1056.0    \n",
       "3                                             1037.0    \n",
       "4                                             1032.0    \n",
       "\n",
       "   TOTAL NUCLEAR GENERATION (MW; 70681)  NET INTERCHANGE (MW; SCADA 45581)   \n",
       "0                                1159.0                             4757.0  \\\n",
       "1                                1165.0                             4872.0   \n",
       "2                                1164.0                             4925.0   \n",
       "3                                1165.0                             4950.0   \n",
       "4                                1161.0                             4930.0   \n",
       "\n",
       "   TOTAL SOLAR BASE SCHEDULE (FORECAST) IN BPA CONTROL AREA (MW; SCADA 187513)   \n",
       "0                                                NaN                            \\\n",
       "1                                                NaN                             \n",
       "2                                                NaN                             \n",
       "3                                                NaN                             \n",
       "4                                                NaN                             \n",
       "\n",
       "   TOTAL SOLAR Basepoint (FORECAST) IN BPA CONTROL AREA (MW; SCADA 177165)   \n",
       "0                                                0.0                        \\\n",
       "1                                                0.0                         \n",
       "2                                                0.0                         \n",
       "3                                                0.0                         \n",
       "4                                                0.0                         \n",
       "\n",
       "   TOTAL SOLAR GENERATION  IN BPA CONTROL AREA (MW; SCADA 142383)  \n",
       "0                                                0.0               \n",
       "1                                                0.0               \n",
       "2                                                0.0               \n",
       "3                                                0.0               \n",
       "4                                                0.0               "
      ]
     },
     "execution_count": 2,
     "metadata": {},
     "output_type": "execute_result"
    }
   ],
   "source": [
    "df = pd.read_csv('mycsv.csv')\n",
    "df.head()"
   ]
  },
  {
   "cell_type": "code",
   "execution_count": 3,
   "id": "94b3767d",
   "metadata": {},
   "outputs": [],
   "source": [
    "df['Date/Time'] = pd.to_datetime(df['Date/Time'], format='mixed', dayfirst=True)"
   ]
  },
  {
   "cell_type": "code",
   "execution_count": 9,
   "id": "c003bf1b",
   "metadata": {},
   "outputs": [
    {
     "data": {
      "text/html": [
       "<div>\n",
       "<style scoped>\n",
       "    .dataframe tbody tr th:only-of-type {\n",
       "        vertical-align: middle;\n",
       "    }\n",
       "\n",
       "    .dataframe tbody tr th {\n",
       "        vertical-align: top;\n",
       "    }\n",
       "\n",
       "    .dataframe thead th {\n",
       "        text-align: right;\n",
       "    }\n",
       "</style>\n",
       "<table border=\"1\" class=\"dataframe\">\n",
       "  <thead>\n",
       "    <tr style=\"text-align: right;\">\n",
       "      <th></th>\n",
       "      <th>Date/Time</th>\n",
       "      <th>TOTAL WIND GENERATION  IN BPA CONTROL AREA (MW; SCADA 79687)</th>\n",
       "    </tr>\n",
       "  </thead>\n",
       "  <tbody>\n",
       "    <tr>\n",
       "      <th>0</th>\n",
       "      <td>2022-01-01 00:00:00</td>\n",
       "      <td>5.0</td>\n",
       "    </tr>\n",
       "    <tr>\n",
       "      <th>1</th>\n",
       "      <td>2022-01-01 00:05:00</td>\n",
       "      <td>5.0</td>\n",
       "    </tr>\n",
       "    <tr>\n",
       "      <th>2</th>\n",
       "      <td>2022-01-01 00:10:00</td>\n",
       "      <td>5.0</td>\n",
       "    </tr>\n",
       "    <tr>\n",
       "      <th>3</th>\n",
       "      <td>2022-01-01 00:15:00</td>\n",
       "      <td>6.0</td>\n",
       "    </tr>\n",
       "    <tr>\n",
       "      <th>4</th>\n",
       "      <td>2022-01-01 00:20:00</td>\n",
       "      <td>6.0</td>\n",
       "    </tr>\n",
       "  </tbody>\n",
       "</table>\n",
       "</div>"
      ],
      "text/plain": [
       "            Date/Time   \n",
       "0 2022-01-01 00:00:00  \\\n",
       "1 2022-01-01 00:05:00   \n",
       "2 2022-01-01 00:10:00   \n",
       "3 2022-01-01 00:15:00   \n",
       "4 2022-01-01 00:20:00   \n",
       "\n",
       "   TOTAL WIND GENERATION  IN BPA CONTROL AREA (MW; SCADA 79687)  \n",
       "0                                                5.0             \n",
       "1                                                5.0             \n",
       "2                                                5.0             \n",
       "3                                                6.0             \n",
       "4                                                6.0             "
      ]
     },
     "execution_count": 9,
     "metadata": {},
     "output_type": "execute_result"
    }
   ],
   "source": [
    "columns_to_select = ['Date/Time', 'TOTAL WIND GENERATION  IN BPA CONTROL AREA (MW; SCADA 79687)']\n",
    "df = df[columns_to_select]\n",
    "df.head()"
   ]
  },
  {
   "cell_type": "code",
   "execution_count": 64,
   "id": "92055a5b",
   "metadata": {},
   "outputs": [
    {
     "data": {
      "text/plain": [
       "count    86388.000000\n",
       "mean       732.712744\n",
       "std        757.830476\n",
       "min          0.000000\n",
       "25%         81.000000\n",
       "50%        423.000000\n",
       "75%       1270.000000\n",
       "max       2641.000000\n",
       "Name: TOTAL WIND GENERATION  IN BPA CONTROL AREA (MW; SCADA 79687), dtype: float64"
      ]
     },
     "execution_count": 64,
     "metadata": {},
     "output_type": "execute_result"
    }
   ],
   "source": [
    "df_new.describe()"
   ]
  },
  {
   "cell_type": "code",
   "execution_count": 11,
   "id": "445bd158",
   "metadata": {},
   "outputs": [
    {
     "data": {
      "text/html": [
       "<div>\n",
       "<style scoped>\n",
       "    .dataframe tbody tr th:only-of-type {\n",
       "        vertical-align: middle;\n",
       "    }\n",
       "\n",
       "    .dataframe tbody tr th {\n",
       "        vertical-align: top;\n",
       "    }\n",
       "\n",
       "    .dataframe thead th {\n",
       "        text-align: right;\n",
       "    }\n",
       "</style>\n",
       "<table border=\"1\" class=\"dataframe\">\n",
       "  <thead>\n",
       "    <tr style=\"text-align: right;\">\n",
       "      <th></th>\n",
       "      <th>Date/Time</th>\n",
       "      <th>TOTAL WIND GENERATION  IN BPA CONTROL AREA (MW; SCADA 79687)</th>\n",
       "    </tr>\n",
       "  </thead>\n",
       "  <tbody>\n",
       "    <tr>\n",
       "      <th>0</th>\n",
       "      <td>2022-01-01 00:00:00</td>\n",
       "      <td>5.0</td>\n",
       "    </tr>\n",
       "    <tr>\n",
       "      <th>1</th>\n",
       "      <td>2022-01-01 00:05:00</td>\n",
       "      <td>5.0</td>\n",
       "    </tr>\n",
       "    <tr>\n",
       "      <th>2</th>\n",
       "      <td>2022-01-01 00:10:00</td>\n",
       "      <td>5.0</td>\n",
       "    </tr>\n",
       "    <tr>\n",
       "      <th>3</th>\n",
       "      <td>2022-01-01 00:15:00</td>\n",
       "      <td>6.0</td>\n",
       "    </tr>\n",
       "    <tr>\n",
       "      <th>4</th>\n",
       "      <td>2022-01-01 00:20:00</td>\n",
       "      <td>6.0</td>\n",
       "    </tr>\n",
       "    <tr>\n",
       "      <th>...</th>\n",
       "      <td>...</td>\n",
       "      <td>...</td>\n",
       "    </tr>\n",
       "    <tr>\n",
       "      <th>86383</th>\n",
       "      <td>2022-10-27 23:35:00</td>\n",
       "      <td>670.0</td>\n",
       "    </tr>\n",
       "    <tr>\n",
       "      <th>86384</th>\n",
       "      <td>2022-10-27 23:40:00</td>\n",
       "      <td>678.0</td>\n",
       "    </tr>\n",
       "    <tr>\n",
       "      <th>86385</th>\n",
       "      <td>2022-10-27 23:45:00</td>\n",
       "      <td>680.0</td>\n",
       "    </tr>\n",
       "    <tr>\n",
       "      <th>86386</th>\n",
       "      <td>2022-10-27 23:50:00</td>\n",
       "      <td>687.0</td>\n",
       "    </tr>\n",
       "    <tr>\n",
       "      <th>86387</th>\n",
       "      <td>2022-10-27 23:55:00</td>\n",
       "      <td>694.0</td>\n",
       "    </tr>\n",
       "  </tbody>\n",
       "</table>\n",
       "<p>86388 rows × 2 columns</p>\n",
       "</div>"
      ],
      "text/plain": [
       "                Date/Time   \n",
       "0     2022-01-01 00:00:00  \\\n",
       "1     2022-01-01 00:05:00   \n",
       "2     2022-01-01 00:10:00   \n",
       "3     2022-01-01 00:15:00   \n",
       "4     2022-01-01 00:20:00   \n",
       "...                   ...   \n",
       "86383 2022-10-27 23:35:00   \n",
       "86384 2022-10-27 23:40:00   \n",
       "86385 2022-10-27 23:45:00   \n",
       "86386 2022-10-27 23:50:00   \n",
       "86387 2022-10-27 23:55:00   \n",
       "\n",
       "       TOTAL WIND GENERATION  IN BPA CONTROL AREA (MW; SCADA 79687)  \n",
       "0                                                    5.0             \n",
       "1                                                    5.0             \n",
       "2                                                    5.0             \n",
       "3                                                    6.0             \n",
       "4                                                    6.0             \n",
       "...                                                  ...             \n",
       "86383                                              670.0             \n",
       "86384                                              678.0             \n",
       "86385                                              680.0             \n",
       "86386                                              687.0             \n",
       "86387                                              694.0             \n",
       "\n",
       "[86388 rows x 2 columns]"
      ]
     },
     "execution_count": 11,
     "metadata": {},
     "output_type": "execute_result"
    }
   ],
   "source": [
    "df"
   ]
  },
  {
   "cell_type": "code",
   "execution_count": 12,
   "id": "f8ce4feb",
   "metadata": {},
   "outputs": [
    {
     "data": {
      "text/plain": [
       "<AxesSubplot:xlabel='Date/Time'>"
      ]
     },
     "execution_count": 12,
     "metadata": {},
     "output_type": "execute_result"
    },
    {
     "data": {
      "image/png": "[encoded data removed]",
      "text/plain": [
       "<Figure size 640x480 with 1 Axes>"
      ]
     },
     "metadata": {},
     "output_type": "display_data"
    }
   ],
   "source": [
    "df.set_index('Date/Time')['TOTAL WIND GENERATION  IN BPA CONTROL AREA (MW; SCADA 79687)'].plot()"
   ]
  },
  {
   "cell_type": "code",
   "execution_count": 23,
   "id": "dd2ba3ed",
   "metadata": {},
   "outputs": [
    {
     "data": {
      "text/plain": [
       "array([  5.,   5.,   5., ..., 680., 687., 694.])"
      ]
     },
     "execution_count": 23,
     "metadata": {},
     "output_type": "execute_result"
    }
   ],
   "source": [
    "wind_generation = df[\"TOTAL WIND GENERATION  IN BPA CONTROL AREA (MW; SCADA 79687)\"].values\n",
    "wind_generation"
   ]
  },
  {
   "cell_type": "code",
   "execution_count": 24,
   "id": "56d567e6",
   "metadata": {},
   "outputs": [
    {
     "data": {
      "text/plain": [
       "array([False, False, False, ..., False, False, False])"
      ]
     },
     "execution_count": 24,
     "metadata": {},
     "output_type": "execute_result"
    }
   ],
   "source": [
    "nan_indices = np.isnan(wind_generation)\n",
    "nan_indices"
   ]
  },
  {
   "cell_type": "code",
   "execution_count": 25,
   "id": "1b1fda95",
   "metadata": {},
   "outputs": [],
   "source": [
    "mean_non_nan = np.nanmean(wind_generation)\n",
    "wind_generation[nan_indices] = mean_non_nan"
   ]
  },
  {
   "cell_type": "code",
   "execution_count": 26,
   "id": "b6ce2292",
   "metadata": {},
   "outputs": [
    {
     "data": {
      "text/plain": [
       "array([  5.,   5.,   5., ..., 680., 687., 694.])"
      ]
     },
     "execution_count": 26,
     "metadata": {},
     "output_type": "execute_result"
    }
   ],
   "source": [
    "wind_generation"
   ]
  },
  {
   "cell_type": "code",
   "execution_count": 27,
   "id": "d14f1e00",
   "metadata": {},
   "outputs": [],
   "source": [
    "scaler = MinMaxScaler()\n",
    "wind_generation_normalized = scaler.fit_transform(wind_generation.reshape(-1, 1))"
   ]
  },
  {
   "cell_type": "code",
   "execution_count": 28,
   "id": "f7beab2c",
   "metadata": {},
   "outputs": [
    {
     "data": {
      "text/plain": [
       "array([[0.00189322],\n",
       "       [0.00189322],\n",
       "       [0.00189322],\n",
       "       ...,\n",
       "       [0.25747823],\n",
       "       [0.26012874],\n",
       "       [0.26277925]])"
      ]
     },
     "execution_count": 28,
     "metadata": {},
     "output_type": "execute_result"
    }
   ],
   "source": [
    "wind_generation_normalized"
   ]
  },
  {
   "cell_type": "code",
   "execution_count": 31,
   "id": "0e0b48d1",
   "metadata": {},
   "outputs": [],
   "source": [
    "# Define the sequence length for input data (e.g., 10 previous time steps)\n",
    "sequence_length = 10\n",
    "\n",
    "# Create sequences for input and target\n",
    "X = []\n",
    "y = []\n",
    "for i in range(len(wind_generation_normalized) - sequence_length):\n",
    "    X.append(wind_generation_normalized[i:i+sequence_length])\n",
    "    y.append(wind_generation_normalized[i+sequence_length])\n",
    "\n",
    "X = np.array(X)\n",
    "y = np.array(y)\n",
    "\n",
    "# Split the data into training and testing sets\n",
    "X_train, X_test, y_train, y_test = train_test_split(X, y, test_size=0.2, shuffle=False)\n"
   ]
  },
  {
   "cell_type": "code",
   "execution_count": 32,
   "id": "adbdf42b",
   "metadata": {},
   "outputs": [],
   "source": [
    "model = Sequential()\n",
    "\n",
    "# Add an LSTM layer with appropriate input shape\n",
    "model.add(LSTM(units=50, activation='relu', input_shape=(sequence_length, 1)))\n",
    "\n",
    "# Add a Dense output layer\n",
    "model.add(Dense(units=1))\n",
    "\n",
    "# Compile the model\n",
    "model.compile(optimizer='adam', loss='mean_squared_error')\n"
   ]
  },
  {
   "cell_type": "code",
   "execution_count": 67,
   "id": "edf87506",
   "metadata": {
    "scrolled": true
   },
   "outputs": [
    {
     "name": "stdout",
     "output_type": "stream",
     "text": [
      "Epoch 1/100\n",
      "270/270 [==============================] - 2s 6ms/step - loss: 8.9871e-05\n",
      "Epoch 2/100\n",
      "270/270 [==============================] - 2s 6ms/step - loss: 8.9167e-05\n",
      "Epoch 3/100\n",
      "270/270 [==============================] - 2s 6ms/step - loss: 8.8972e-05\n",
      "Epoch 4/100\n",
      "270/270 [==============================] - 2s 6ms/step - loss: 8.9074e-05\n",
      "Epoch 5/100\n",
      "270/270 [==============================] - 2s 6ms/step - loss: 8.9150e-05\n",
      "Epoch 6/100\n",
      "270/270 [==============================] - 2s 6ms/step - loss: 8.8165e-05\n",
      "Epoch 7/100\n",
      "270/270 [==============================] - 2s 6ms/step - loss: 8.8324e-05\n",
      "Epoch 8/100\n",
      "270/270 [==============================] - 2s 6ms/step - loss: 8.8773e-05\n",
      "Epoch 9/100\n",
      "270/270 [==============================] - 2s 6ms/step - loss: 8.8464e-05\n",
      "Epoch 10/100\n",
      "270/270 [==============================] - 2s 6ms/step - loss: 8.8306e-05\n",
      "Epoch 11/100\n",
      "270/270 [==============================] - 2s 6ms/step - loss: 8.8321e-05\n",
      "Epoch 12/100\n",
      "270/270 [==============================] - 2s 6ms/step - loss: 8.7815e-05\n",
      "Epoch 13/100\n",
      "270/270 [==============================] - 2s 6ms/step - loss: 8.7928e-05\n",
      "Epoch 14/100\n",
      "270/270 [==============================] - 2s 6ms/step - loss: 8.7274e-05\n",
      "Epoch 15/100\n",
      "270/270 [==============================] - 2s 6ms/step - loss: 8.8207e-05\n",
      "Epoch 16/100\n",
      "270/270 [==============================] - 2s 6ms/step - loss: 8.7615e-05\n",
      "Epoch 17/100\n",
      "270/270 [==============================] - 2s 6ms/step - loss: 8.7719e-05\n",
      "Epoch 18/100\n",
      "270/270 [==============================] - 2s 6ms/step - loss: 8.6710e-05\n",
      "Epoch 19/100\n",
      "270/270 [==============================] - 2s 6ms/step - loss: 8.7083e-05\n",
      "Epoch 20/100\n",
      "270/270 [==============================] - 2s 6ms/step - loss: 8.6474e-05\n",
      "Epoch 21/100\n",
      "270/270 [==============================] - 2s 6ms/step - loss: 8.7224e-05\n",
      "Epoch 22/100\n",
      "270/270 [==============================] - 2s 6ms/step - loss: 8.7538e-05\n",
      "Epoch 23/100\n",
      "270/270 [==============================] - 2s 6ms/step - loss: 8.6564e-05\n",
      "Epoch 24/100\n",
      "270/270 [==============================] - 2s 6ms/step - loss: 8.6731e-05\n",
      "Epoch 25/100\n",
      "270/270 [==============================] - 2s 6ms/step - loss: 8.6423e-05\n",
      "Epoch 26/100\n",
      "270/270 [==============================] - 2s 6ms/step - loss: 8.6400e-05\n",
      "Epoch 27/100\n",
      "270/270 [==============================] - 2s 6ms/step - loss: 8.5884e-05\n",
      "Epoch 28/100\n",
      "270/270 [==============================] - 2s 6ms/step - loss: 8.6430e-05\n",
      "Epoch 29/100\n",
      "270/270 [==============================] - 2s 6ms/step - loss: 8.5880e-05\n",
      "Epoch 30/100\n",
      "270/270 [==============================] - 2s 6ms/step - loss: 8.5459e-05\n",
      "Epoch 31/100\n",
      "270/270 [==============================] - 2s 6ms/step - loss: 8.6454e-05\n",
      "Epoch 32/100\n",
      "270/270 [==============================] - 2s 6ms/step - loss: 8.5569e-05\n",
      "Epoch 33/100\n",
      "270/270 [==============================] - 2s 6ms/step - loss: 8.5889e-05\n",
      "Epoch 34/100\n",
      "270/270 [==============================] - 2s 6ms/step - loss: 8.5913e-05\n",
      "Epoch 35/100\n",
      "270/270 [==============================] - 2s 6ms/step - loss: 8.6161e-05\n",
      "Epoch 36/100\n",
      "270/270 [==============================] - 2s 6ms/step - loss: 8.5337e-05\n",
      "Epoch 37/100\n",
      "270/270 [==============================] - 2s 6ms/step - loss: 8.5758e-05\n",
      "Epoch 38/100\n",
      "270/270 [==============================] - 2s 6ms/step - loss: 8.5893e-05\n",
      "Epoch 39/100\n",
      "270/270 [==============================] - 2s 6ms/step - loss: 8.4917e-05\n",
      "Epoch 40/100\n",
      "270/270 [==============================] - 2s 6ms/step - loss: 8.4945e-05\n",
      "Epoch 41/100\n",
      "270/270 [==============================] - 2s 6ms/step - loss: 8.4899e-05\n",
      "Epoch 42/100\n",
      "270/270 [==============================] - 2s 6ms/step - loss: 8.5680e-05\n",
      "Epoch 43/100\n",
      "270/270 [==============================] - 2s 6ms/step - loss: 8.5052e-05\n",
      "Epoch 44/100\n",
      "270/270 [==============================] - 2s 6ms/step - loss: 8.5251e-05\n",
      "Epoch 45/100\n",
      "270/270 [==============================] - 2s 6ms/step - loss: 8.5186e-05\n",
      "Epoch 46/100\n",
      "270/270 [==============================] - 2s 6ms/step - loss: 8.5041e-05\n",
      "Epoch 47/100\n",
      "270/270 [==============================] - 2s 6ms/step - loss: 8.5031e-05\n",
      "Epoch 48/100\n",
      "270/270 [==============================] - 2s 6ms/step - loss: 8.4971e-05\n",
      "Epoch 49/100\n",
      "270/270 [==============================] - 2s 6ms/step - loss: 8.4871e-05\n",
      "Epoch 50/100\n",
      "270/270 [==============================] - 2s 6ms/step - loss: 8.5882e-05\n",
      "Epoch 51/100\n",
      "270/270 [==============================] - 2s 6ms/step - loss: 8.4565e-05\n",
      "Epoch 52/100\n",
      "270/270 [==============================] - 2s 6ms/step - loss: 8.5178e-05\n",
      "Epoch 53/100\n",
      "270/270 [==============================] - 2s 6ms/step - loss: 8.4997e-05\n",
      "Epoch 54/100\n",
      "270/270 [==============================] - 2s 6ms/step - loss: 8.4606e-05\n",
      "Epoch 55/100\n",
      "270/270 [==============================] - 2s 6ms/step - loss: 8.4853e-05\n",
      "Epoch 56/100\n",
      "270/270 [==============================] - 2s 6ms/step - loss: 8.4726e-05\n",
      "Epoch 57/100\n",
      "270/270 [==============================] - 2s 6ms/step - loss: 8.4886e-05\n",
      "Epoch 58/100\n",
      "270/270 [==============================] - 2s 6ms/step - loss: 8.5197e-05\n",
      "Epoch 59/100\n",
      "270/270 [==============================] - 2s 6ms/step - loss: 8.4701e-05\n",
      "Epoch 60/100\n",
      "270/270 [==============================] - 2s 6ms/step - loss: 8.4001e-05\n",
      "Epoch 61/100\n",
      "270/270 [==============================] - 2s 6ms/step - loss: 8.5327e-05\n",
      "Epoch 62/100\n",
      "270/270 [==============================] - 2s 6ms/step - loss: 8.4544e-05\n",
      "Epoch 63/100\n",
      "270/270 [==============================] - 2s 6ms/step - loss: 8.4772e-05\n",
      "Epoch 64/100\n",
      "270/270 [==============================] - 2s 6ms/step - loss: 8.4866e-05\n",
      "Epoch 65/100\n",
      "270/270 [==============================] - 2s 6ms/step - loss: 8.4451e-05\n",
      "Epoch 66/100\n",
      "270/270 [==============================] - 2s 6ms/step - loss: 8.4559e-05\n",
      "Epoch 67/100\n",
      "270/270 [==============================] - 2s 6ms/step - loss: 8.3857e-05\n",
      "Epoch 68/100\n",
      "270/270 [==============================] - 2s 6ms/step - loss: 8.4481e-05\n",
      "Epoch 69/100\n",
      "270/270 [==============================] - 2s 6ms/step - loss: 8.4665e-05\n",
      "Epoch 70/100\n",
      "270/270 [==============================] - 2s 6ms/step - loss: 8.4956e-05\n",
      "Epoch 71/100\n",
      "270/270 [==============================] - 2s 6ms/step - loss: 8.4744e-05\n",
      "Epoch 72/100\n",
      "270/270 [==============================] - 2s 6ms/step - loss: 8.4166e-05\n",
      "Epoch 73/100\n",
      "270/270 [==============================] - 2s 6ms/step - loss: 8.4657e-05\n",
      "Epoch 74/100\n",
      "270/270 [==============================] - 2s 6ms/step - loss: 8.4164e-05\n",
      "Epoch 75/100\n",
      "270/270 [==============================] - 2s 6ms/step - loss: 8.4241e-05\n",
      "Epoch 76/100\n",
      "270/270 [==============================] - 2s 6ms/step - loss: 8.4518e-05\n",
      "Epoch 77/100\n",
      "270/270 [==============================] - 2s 6ms/step - loss: 8.4007e-05\n",
      "Epoch 78/100\n",
      "270/270 [==============================] - 2s 6ms/step - loss: 8.4336e-05\n",
      "Epoch 79/100\n",
      "270/270 [==============================] - 2s 6ms/step - loss: 8.3874e-05\n",
      "Epoch 80/100\n",
      "270/270 [==============================] - 2s 6ms/step - loss: 8.4598e-05\n",
      "Epoch 81/100\n",
      "270/270 [==============================] - 2s 6ms/step - loss: 8.3939e-05\n",
      "Epoch 82/100\n",
      "270/270 [==============================] - 2s 6ms/step - loss: 8.4670e-05\n",
      "Epoch 83/100\n",
      "270/270 [==============================] - 2s 6ms/step - loss: 8.3723e-05\n",
      "Epoch 84/100\n",
      "270/270 [==============================] - 2s 6ms/step - loss: 8.4072e-05\n",
      "Epoch 85/100\n",
      "270/270 [==============================] - 2s 6ms/step - loss: 8.3678e-05\n",
      "Epoch 86/100\n",
      "270/270 [==============================] - 2s 6ms/step - loss: 8.4587e-05\n",
      "Epoch 87/100\n",
      "270/270 [==============================] - 2s 6ms/step - loss: 8.3792e-05\n",
      "Epoch 88/100\n",
      "270/270 [==============================] - 2s 6ms/step - loss: 8.3768e-05\n",
      "Epoch 89/100\n",
      "270/270 [==============================] - 2s 6ms/step - loss: 8.4102e-05\n",
      "Epoch 90/100\n",
      "270/270 [==============================] - 2s 6ms/step - loss: 8.4384e-05\n",
      "Epoch 91/100\n",
      "270/270 [==============================] - 2s 6ms/step - loss: 8.4514e-05\n",
      "Epoch 92/100\n",
      "270/270 [==============================] - 2s 6ms/step - loss: 8.4269e-05\n",
      "Epoch 93/100\n",
      "270/270 [==============================] - 2s 6ms/step - loss: 8.3931e-05\n",
      "Epoch 94/100\n",
      "270/270 [==============================] - 2s 6ms/step - loss: 8.3489e-05\n",
      "Epoch 95/100\n"
     ]
    },
    {
     "name": "stdout",
     "output_type": "stream",
     "text": [
      "270/270 [==============================] - 2s 6ms/step - loss: 8.3560e-05\n",
      "Epoch 96/100\n",
      "270/270 [==============================] - 2s 6ms/step - loss: 8.5245e-05\n",
      "Epoch 97/100\n",
      "270/270 [==============================] - 2s 6ms/step - loss: 8.3670e-05\n",
      "Epoch 98/100\n",
      "270/270 [==============================] - 2s 6ms/step - loss: 8.4770e-05\n",
      "Epoch 99/100\n",
      "270/270 [==============================] - 2s 6ms/step - loss: 8.3591e-05\n",
      "Epoch 100/100\n",
      "270/270 [==============================] - 2s 6ms/step - loss: 8.3290e-05\n"
     ]
    },
    {
     "data": {
      "text/plain": [
       "<keras.callbacks.History at 0x1cb443402b0>"
      ]
     },
     "execution_count": 67,
     "metadata": {},
     "output_type": "execute_result"
    }
   ],
   "source": [
    "model.fit(X_train, y_train, epochs=100, batch_size=256)"
   ]
  },
  {
   "cell_type": "code",
   "execution_count": 68,
   "id": "6963aed1",
   "metadata": {},
   "outputs": [
    {
     "name": "stdout",
     "output_type": "stream",
     "text": [
      "540/540 [==============================] - 1s 2ms/step - loss: 8.5868e-05\n",
      "Test Loss: 8.586751209804788e-05\n"
     ]
    }
   ],
   "source": [
    "# Evaluate the model on the test set\n",
    "loss = model.evaluate(X_test, y_test)\n",
    "print(\"Test Loss:\", loss)\n"
   ]
  },
  {
   "cell_type": "code",
   "execution_count": 69,
   "id": "af573f6b",
   "metadata": {},
   "outputs": [
    {
     "name": "stdout",
     "output_type": "stream",
     "text": [
      "540/540 [==============================] - 1s 2ms/step\n"
     ]
    },
    {
     "data": {
      "text/plain": [
       "(17276, 1)"
      ]
     },
     "execution_count": 69,
     "metadata": {},
     "output_type": "execute_result"
    }
   ],
   "source": [
    "# Make predictions on the test set\n",
    "predictions = model.predict(X_test)\n",
    "\n",
    "# Inverse transform the predictions to the original scale\n",
    "predictions_original_scale = scaler.inverse_transform(predictions)\n",
    "\n",
    "\n",
    "predictions_original_scale.shape\n",
    "\n"
   ]
  },
  {
   "cell_type": "code",
   "execution_count": 70,
   "id": "d15b0bc1",
   "metadata": {},
   "outputs": [
    {
     "data": {
      "text/plain": [
       "(86378, 10, 1)"
      ]
     },
     "execution_count": 70,
     "metadata": {},
     "output_type": "execute_result"
    }
   ],
   "source": [
    "X.shape"
   ]
  },
  {
   "cell_type": "code",
   "execution_count": 71,
   "id": "30dc631c",
   "metadata": {},
   "outputs": [
    {
     "data": {
      "image/png": "[encoded data removed]",
      "text/plain": [
       "<Figure size 640x480 with 1 Axes>"
      ]
     },
     "metadata": {},
     "output_type": "display_data"
    }
   ],
   "source": [
    "# Calculate the number of valid time steps for which you have predictions\n",
    "num_valid_time_steps = len(predictions_original_scale)\n",
    "\n",
    "# Calculate the last time step value\n",
    "last_time_step = len(wind_generation) - num_valid_time_steps + 1\n",
    "\n",
    "# Create an array of time steps corresponding to the predictions\n",
    "time_steps = np.arange(last_time_step, last_time_step + num_valid_time_steps)\n",
    "\n",
    "# Plot actual vs. predicted values\n",
    "plt.plot(wind_generation, label='Actual')\n",
    "plt.plot(time_steps, predictions_original_scale, label='Predicted')\n",
    "plt.legend()\n",
    "plt.show()\n"
   ]
  },
  {
   "cell_type": "code",
   "execution_count": 72,
   "id": "c7cce3a6",
   "metadata": {},
   "outputs": [
    {
     "name": "stdout",
     "output_type": "stream",
     "text": [
      "Mean Absolute Error: 569.2328116162807\n",
      "Mean Squared Error: 843870.87687118\n",
      "Root Mean Squared Error: 918.6244482220033\n",
      "Mean Absolute Percentage Error: 1964432620.5071483\n"
     ]
    }
   ],
   "source": [
    "from sklearn.metrics import mean_absolute_error, mean_squared_error\n",
    "\n",
    "# Calculate the Mean Absolute Error (MAE)\n",
    "mae = mean_absolute_error(y_test, predictions_original_scale)\n",
    "print(\"Mean Absolute Error:\", mae)\n",
    "\n",
    "# Calculate the Mean Squared Error (MSE)\n",
    "mse = mean_squared_error(y_test, predictions_original_scale)\n",
    "print(\"Mean Squared Error:\", mse)\n",
    "\n",
    "# Calculate the Root Mean Squared Error (RMSE)\n",
    "rmse = np.sqrt(mse)\n",
    "print(\"Root Mean Squared Error:\", rmse)\n",
    "\n",
    "# Calculate the Mean Absolute Percentage Error (MAPE)\n",
    "def mean_absolute_percentage_error(y_true, y_pred):\n",
    "    return np.mean(np.abs((y_true - y_pred) / (y_true + 1e-10))) * 100\n",
    "\n",
    "mape = mean_absolute_percentage_error(y_test, predictions_original_scale)\n",
    "print(\"Mean Absolute Percentage Error:\", mape)\n",
    "\n"
   ]
  },
  {
   "cell_type": "code",
   "execution_count": null,
   "id": "fcda75e3",
   "metadata": {},
   "outputs": [],
   "source": []
  },
  {
   "cell_type": "code",
   "execution_count": null,
   "id": "f6da2518",
   "metadata": {},
   "outputs": [],
   "source": []
  },
  {
   "cell_type": "code",
   "execution_count": null,
   "id": "b97b36bb",
   "metadata": {},
   "outputs": [],
   "source": []
  },
  {
   "cell_type": "code",
   "execution_count": null,
   "id": "6df7480c",
   "metadata": {},
   "outputs": [],
   "source": []
  },
  {
   "cell_type": "code",
   "execution_count": null,
   "id": "d4cc1789",
   "metadata": {},
   "outputs": [],
   "source": []
  },
  {
   "cell_type": "code",
   "execution_count": null,
   "id": "388d17b0",
   "metadata": {},
   "outputs": [],
   "source": []
  }
 ],
 "metadata": {
  "kernelspec": {
   "display_name": "Python 3 (ipykernel)",
   "language": "python",
   "name": "python3"
  },
  "language_info": {
   "codemirror_mode": {
    "name": "ipython",
    "version": 3
   },
   "file_extension": ".py",
   "mimetype": "text/x-python",
   "name": "python",
   "nbconvert_exporter": "python",
   "pygments_lexer": "ipython3",
   "version": "3.10.0"
  }
 },
 "nbformat": 4,
 "nbformat_minor": 5
}
